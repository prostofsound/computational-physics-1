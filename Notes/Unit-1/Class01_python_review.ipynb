{
 "cells": [
  {
   "cell_type": "code",
   "execution_count": 1,
   "id": "657539b2-df12-450e-b101-5b34125ec037",
   "metadata": {},
   "outputs": [
    {
     "data": {
      "text/plain": [
       "2"
      ]
     },
     "execution_count": 1,
     "metadata": {},
     "output_type": "execute_result"
    }
   ],
   "source": [
    "class Value():\n",
    "    "
   ]
  },
  {
   "cell_type": "code",
   "execution_count": 3,
   "id": "f2981508-ffb6-4ef7-81d6-d5253297db3f",
   "metadata": {},
   "outputs": [
    {
     "data": {
      "text/plain": [
       "[1, 3, 5, 3]"
      ]
     },
     "execution_count": 3,
     "metadata": {},
     "output_type": "execute_result"
    }
   ],
   "source": [
    "list_1=[1,3,2,3]\n",
    "list_1[2]=5\n",
    "list_1"
   ]
  },
  {
   "cell_type": "code",
   "execution_count": 4,
   "id": "38c88733-27af-4795-96c6-0950c852eda0",
   "metadata": {},
   "outputs": [
    {
     "data": {
      "text/plain": [
       "6"
      ]
     },
     "execution_count": 4,
     "metadata": {},
     "output_type": "execute_result"
    }
   ],
   "source": [
    "tuple_1=(\"apple,3\",23,5,645,89,5)\n",
    "tuple_1.count(23)\n",
    "len(tuple_1)"
   ]
  },
  {
   "cell_type": "code",
   "execution_count": 5,
   "id": "57c63078-bcb7-4121-acfb-c377ae1af15a",
   "metadata": {},
   "outputs": [
    {
     "data": {
      "text/plain": [
       "(5, 645, 89)"
      ]
     },
     "execution_count": 5,
     "metadata": {},
     "output_type": "execute_result"
    }
   ],
   "source": [
    "tuple_1[2:5]"
   ]
  },
  {
   "cell_type": "code",
   "execution_count": 6,
   "id": "6b878894-c1ee-4237-84fd-1b1606cbbcc5",
   "metadata": {},
   "outputs": [
    {
     "ename": "TypeError",
     "evalue": "'tuple' object does not support item assignment",
     "output_type": "error",
     "traceback": [
      "\u001b[0;31m---------------------------------------------------------------------------\u001b[0m",
      "\u001b[0;31mTypeError\u001b[0m                                 Traceback (most recent call last)",
      "Cell \u001b[0;32mIn[6], line 1\u001b[0m\n\u001b[0;32m----> 1\u001b[0m \u001b[43mtuple_1\u001b[49m\u001b[43m[\u001b[49m\u001b[38;5;241;43m3\u001b[39;49m\u001b[43m]\u001b[49m\u001b[38;5;241m=\u001b[39m\u001b[38;5;241m51\u001b[39m\n",
      "\u001b[0;31mTypeError\u001b[0m: 'tuple' object does not support item assignment"
     ]
    }
   ],
   "source": [
    "tuple_1[3]=51 #Tuples are immutable#"
   ]
  },
  {
   "cell_type": "code",
   "execution_count": 6,
   "id": "23f5ac33-0b84-4b1a-a247-9c6349af517e",
   "metadata": {},
   "outputs": [],
   "source": [
    "nfruits=[(\"apple\",56),(\"orange\",23),(\"banana\",89)]"
   ]
  },
  {
   "cell_type": "code",
   "execution_count": 8,
   "id": "a7fa4057-af88-4769-a75e-a83eb0cd78ee",
   "metadata": {},
   "outputs": [
    {
     "name": "stdout",
     "output_type": "stream",
     "text": [
      "('apple', 56) ('orange', 23)\n"
     ]
    }
   ],
   "source": [
    "n,m,_ = nfruits #unpacking#\n",
    "print(n,m)"
   ]
  },
  {
   "cell_type": "code",
   "execution_count": 10,
   "id": "6117a1d7-77e1-4326-aa45-adbe51b7762c",
   "metadata": {
    "scrolled": true
   },
   "outputs": [
    {
     "data": {
      "text/plain": [
       "(5, 6, 5)"
      ]
     },
     "execution_count": 10,
     "metadata": {},
     "output_type": "execute_result"
    }
   ],
   "source": [
    "tuple_2 = 5,6,5 #packing#\n",
    "tuple_2"
   ]
  },
  {
   "cell_type": "markdown",
   "id": "83495920-c964-4171-9ee5-c9f20e56b2d5",
   "metadata": {},
   "source": [
    "Next, **SETS**"
   ]
  },
  {
   "cell_type": "code",
   "execution_count": 11,
   "id": "6497f328-828d-4f41-83a9-b61188005485",
   "metadata": {},
   "outputs": [
    {
     "data": {
      "text/plain": [
       "{3, 5, 6, 7, 9, 12, 89}"
      ]
     },
     "execution_count": 11,
     "metadata": {},
     "output_type": "execute_result"
    }
   ],
   "source": [
    "set_1={5,89,5,12,3,6,7,9,6,5}\n",
    "set(set_1) #to check the unique elements#"
   ]
  },
  {
   "cell_type": "code",
   "execution_count": 9,
   "id": "8de91530-c499-43f5-9e5a-058ca7b516a1",
   "metadata": {},
   "outputs": [
    {
     "name": "stdout",
     "output_type": "stream",
     "text": [
      "{'p', 'a', 9, 'm', 'i', 'k'}\n"
     ]
    }
   ],
   "source": [
    "tuple_3 = (\"a\",\"m\",9,\"k\",\"i\",\"p\",\"m\",\"i\")\n",
    "set_2 = set(tuple_3)\n",
    "print(set_2)"
   ]
  },
  {
   "cell_type": "code",
   "execution_count": 21,
   "id": "242a2624-ea76-4a99-91a4-a4e100538c8a",
   "metadata": {},
   "outputs": [
    {
     "data": {
      "text/plain": [
       "{'a', 'b', 'e', 'l', 'n', 'o', 'p', 's', 't', 'u'}"
      ]
     },
     "execution_count": 21,
     "metadata": {},
     "output_type": "execute_result"
    }
   ],
   "source": [
    "set(\"unstoppable\")"
   ]
  },
  {
   "cell_type": "code",
   "execution_count": 25,
   "id": "7f444f9b-454c-44ad-9b26-4d85bbe2513c",
   "metadata": {},
   "outputs": [
    {
     "data": {
      "text/plain": [
       "{12, 3, 5, 6, 7, 89, 9, 'a', 'i', 'k', 'm', 'p'}"
      ]
     },
     "execution_count": 25,
     "metadata": {},
     "output_type": "execute_result"
    }
   ],
   "source": [
    "set_1.union(set_2)"
   ]
  },
  {
   "cell_type": "code",
   "execution_count": 26,
   "id": "9ba82b10-1114-4879-ace1-78609b5b6364",
   "metadata": {},
   "outputs": [
    {
     "data": {
      "text/plain": [
       "{9}"
      ]
     },
     "execution_count": 26,
     "metadata": {},
     "output_type": "execute_result"
    }
   ],
   "source": [
    "set_1.intersection(set_2)"
   ]
  },
  {
   "cell_type": "code",
   "execution_count": 12,
   "id": "f4b20472-920b-4389-b5a2-b5b9de810a7b",
   "metadata": {},
   "outputs": [
    {
     "data": {
      "text/plain": [
       "False"
      ]
     },
     "execution_count": 12,
     "metadata": {},
     "output_type": "execute_result"
    }
   ],
   "source": [
    "set_1.issubset({1, 2, 3, 3, 4, 5}) #if every element on set_1 is found in the new set, the function returns True"
   ]
  },
  {
   "cell_type": "markdown",
   "id": "b759862c-cc57-4998-888f-6999eec5b3ac",
   "metadata": {},
   "source": [
    "**DICTIONARIES**"
   ]
  },
  {
   "cell_type": "markdown",
   "id": "df6ef729-6635-4e60-897f-ca8bbab2b251",
   "metadata": {},
   "source": [
    "A dictionary is a key-value pairs, and each key maps to a corresponding value. It is defined by using a pair of braces { }, while the elements are a list of comma separated key:value pairs (note the key:value pair is separated by the colon, with key at front and value at the end)."
   ]
  },
  {
   "cell_type": "markdown",
   "id": "ec771487-88db-41fc-8de8-6f969d1123a3",
   "metadata": {},
   "source": [
    "Within a dictionary, elements are stored without order, therefore, you can not access a dictionary based on a sequence of index numbers. To get access to a dictionary, we need to use the key of the element - dictionary[key]."
   ]
  },
  {
   "cell_type": "code",
   "execution_count": 28,
   "id": "118907f4-f0c9-48b8-a284-9d634db98f3d",
   "metadata": {},
   "outputs": [
    {
     "data": {
      "text/plain": [
       "{'45kosp': 33, 'sopc54': 446, 'kopl24': 22}"
      ]
     },
     "execution_count": 28,
     "metadata": {},
     "output_type": "execute_result"
    }
   ],
   "source": [
    "dict_1 = {'45kosp':33, 'sopc54':446, 'kopl24':22}\n",
    "dict_1"
   ]
  },
  {
   "cell_type": "code",
   "execution_count": 30,
   "id": "276388a7-5f47-4f23-8815-79fdc2c9142e",
   "metadata": {},
   "outputs": [
    {
     "data": {
      "text/plain": [
       "22"
      ]
     },
     "execution_count": 30,
     "metadata": {},
     "output_type": "execute_result"
    }
   ],
   "source": [
    "dict_1[\"kopl24\"]"
   ]
  },
  {
   "cell_type": "code",
   "execution_count": 31,
   "id": "6654141f-27fc-4167-96e9-59c79d84f6d0",
   "metadata": {},
   "outputs": [
    {
     "data": {
      "text/plain": [
       "dict_keys(['45kosp', 'sopc54', 'kopl24'])"
      ]
     },
     "execution_count": 31,
     "metadata": {},
     "output_type": "execute_result"
    }
   ],
   "source": [
    "dict_1.keys()"
   ]
  },
  {
   "cell_type": "code",
   "execution_count": 32,
   "id": "5a2747ec-d522-4984-8d84-5d34ad5f0f82",
   "metadata": {},
   "outputs": [
    {
     "data": {
      "text/plain": [
       "dict_values([33, 446, 22])"
      ]
     },
     "execution_count": 32,
     "metadata": {},
     "output_type": "execute_result"
    }
   ],
   "source": [
    "dict_1.values()"
   ]
  },
  {
   "cell_type": "code",
   "execution_count": 33,
   "id": "67ebfff9-1924-41ce-a026-05e703f35f48",
   "metadata": {},
   "outputs": [
    {
     "data": {
      "text/plain": [
       "3"
      ]
     },
     "execution_count": 33,
     "metadata": {},
     "output_type": "execute_result"
    }
   ],
   "source": [
    "len(dict_1)"
   ]
  },
  {
   "cell_type": "code",
   "execution_count": 34,
   "id": "68947013-9ad8-4765-b37a-f07a56002d19",
   "metadata": {},
   "outputs": [
    {
     "data": {
      "text/plain": [
       "{'Cervantes': 'El ingenioso hidalgo Don Quijote de la Mancha'}"
      ]
     },
     "execution_count": 34,
     "metadata": {},
     "output_type": "execute_result"
    }
   ],
   "source": [
    "library_dict = {}\n",
    "library_dict['Cervantes'] = 'El ingenioso hidalgo Don Quijote de la Mancha'\n",
    "library_dict"
   ]
  },
  {
   "cell_type": "code",
   "execution_count": 36,
   "id": "e2b7869c-c3b0-4120-aba6-5e884203f561",
   "metadata": {},
   "outputs": [
    {
     "data": {
      "text/plain": [
       "{'Cervantes': 'El ingenioso hidalgo Don Quijote de la Mancha',\n",
       " 'Bradbury': 'Farenheit 451'}"
      ]
     },
     "execution_count": 36,
     "metadata": {},
     "output_type": "execute_result"
    }
   ],
   "source": [
    "library_dict[\"Bradbury\"] = \"Farenheit 451\"\n",
    "library_dict"
   ]
  },
  {
   "cell_type": "code",
   "execution_count": 37,
   "id": "b2f7de71-b984-49c2-ac1d-542d688b590c",
   "metadata": {},
   "outputs": [
    {
     "data": {
      "text/plain": [
       "['Cervantes', 'Bradbury']"
      ]
     },
     "execution_count": 37,
     "metadata": {},
     "output_type": "execute_result"
    }
   ],
   "source": [
    "list(library_dict) #turn keys to elements of a list#"
   ]
  },
  {
   "cell_type": "markdown",
   "id": "83b3e360-1b20-45ea-a9d0-2cfb95f4cbcc",
   "metadata": {},
   "source": [
    "**NUMPY Arrays**"
   ]
  },
  {
   "cell_type": "markdown",
   "id": "ad32af3d-7177-44ce-84cb-2b3143843220",
   "metadata": {},
   "source": [
    "NumPy is important in scientific computing, it is coded both in Python and C (for speed). On its website, a few important features for Numpy are listed:\n",
    "\n",
    "* a powerful N-dimensional array object\n",
    "\n",
    "* sophisticated (broadcasting) functions\n",
    "\n",
    "* tools for integrating C/C++ and Fortran code\n",
    "\n",
    "* useful linear algebra, Fourier transform, and random number capabilities"
   ]
  },
  {
   "cell_type": "code",
   "execution_count": 39,
   "id": "9307bee7-d40e-4b80-be10-c8b877aba54c",
   "metadata": {},
   "outputs": [],
   "source": [
    "import numpy as np #import the library using a relatable name#"
   ]
  },
  {
   "cell_type": "markdown",
   "id": "d228ef14-0bfb-449c-92d4-b70e1d25ae01",
   "metadata": {},
   "source": [
    "**Arrays/\"Tensors\"**"
   ]
  },
  {
   "cell_type": "code",
   "execution_count": 44,
   "id": "043c595a-32a3-4e9b-8be7-b02fd177d56b",
   "metadata": {},
   "outputs": [
    {
     "data": {
      "text/plain": [
       "array([56, 89, 45])"
      ]
     },
     "execution_count": 44,
     "metadata": {},
     "output_type": "execute_result"
    }
   ],
   "source": [
    "x_1 = np.array([56,89,45])\n",
    "x_1"
   ]
  },
  {
   "cell_type": "code",
   "execution_count": 46,
   "id": "01ff1638-fc06-4f9f-992a-76acad081e82",
   "metadata": {},
   "outputs": [
    {
     "data": {
      "text/plain": [
       "array(['56', '89', '45', 'm'], dtype='<U21')"
      ]
     },
     "execution_count": 46,
     "metadata": {},
     "output_type": "execute_result"
    }
   ],
   "source": [
    "x_2 = np.array([56,89,45,\"m\"])\n",
    "x_2"
   ]
  },
  {
   "cell_type": "code",
   "execution_count": 51,
   "id": "5294536b-69ba-4b06-88f9-ed863be03278",
   "metadata": {},
   "outputs": [
    {
     "data": {
      "text/plain": [
       "array([[ 5, 78,  9, 51],\n",
       "       [ 2,  3,  1,  4],\n",
       "       [ 4, 56, 98,  5]])"
      ]
     },
     "execution_count": 51,
     "metadata": {},
     "output_type": "execute_result"
    }
   ],
   "source": [
    "y_1 = np.array([[5,78,9,51],[2,3,1,4],[4,56,98,5]]) #careful with the brackets at the end\n",
    "y_1"
   ]
  },
  {
   "cell_type": "code",
   "execution_count": 52,
   "id": "4ccab909-9e1e-4ae1-949d-b81abdd0af14",
   "metadata": {},
   "outputs": [
    {
     "data": {
      "text/plain": [
       "(4,)"
      ]
     },
     "execution_count": 52,
     "metadata": {},
     "output_type": "execute_result"
    }
   ],
   "source": [
    "x_2.shape"
   ]
  },
  {
   "cell_type": "code",
   "execution_count": 53,
   "id": "9ffebf01-9cc8-41f3-a05f-9c28f869ef22",
   "metadata": {},
   "outputs": [
    {
     "data": {
      "text/plain": [
       "(3, 4)"
      ]
     },
     "execution_count": 53,
     "metadata": {},
     "output_type": "execute_result"
    }
   ],
   "source": [
    "y_1.shape #size of matrix mxn#"
   ]
  },
  {
   "cell_type": "code",
   "execution_count": 54,
   "id": "0a29fed1-222f-43fc-8e83-9695777d5f14",
   "metadata": {},
   "outputs": [
    {
     "data": {
      "text/plain": [
       "4"
      ]
     },
     "execution_count": 54,
     "metadata": {},
     "output_type": "execute_result"
    }
   ],
   "source": [
    "x_2.size #gets the total number of elements"
   ]
  },
  {
   "cell_type": "code",
   "execution_count": 55,
   "id": "ecd11f97-280e-4ad7-b460-a6076c306e59",
   "metadata": {},
   "outputs": [
    {
     "data": {
      "text/plain": [
       "12"
      ]
     },
     "execution_count": 55,
     "metadata": {},
     "output_type": "execute_result"
    }
   ],
   "source": [
    "y_1.size"
   ]
  },
  {
   "cell_type": "code",
   "execution_count": 56,
   "id": "45e2506d-07a9-447c-a9b9-fb01ef16b20e",
   "metadata": {},
   "outputs": [
    {
     "data": {
      "text/plain": [
       "array([-5.0000e+00, -3.7700e+00, -2.5400e+00, -1.3100e+00, -8.0000e-02,\n",
       "        1.1500e+00,  2.3800e+00,  3.6100e+00,  4.8400e+00,  6.0700e+00,\n",
       "        7.3000e+00,  8.5300e+00,  9.7600e+00,  1.0990e+01,  1.2220e+01,\n",
       "        1.3450e+01,  1.4680e+01,  1.5910e+01,  1.7140e+01,  1.8370e+01,\n",
       "        1.9600e+01,  2.0830e+01,  2.2060e+01,  2.3290e+01,  2.4520e+01,\n",
       "        2.5750e+01,  2.6980e+01,  2.8210e+01,  2.9440e+01,  3.0670e+01,\n",
       "        3.1900e+01,  3.3130e+01,  3.4360e+01,  3.5590e+01,  3.6820e+01,\n",
       "        3.8050e+01,  3.9280e+01,  4.0510e+01,  4.1740e+01,  4.2970e+01,\n",
       "        4.4200e+01,  4.5430e+01,  4.6660e+01,  4.7890e+01,  4.9120e+01,\n",
       "        5.0350e+01,  5.1580e+01,  5.2810e+01,  5.4040e+01,  5.5270e+01,\n",
       "        5.6500e+01,  5.7730e+01,  5.8960e+01,  6.0190e+01,  6.1420e+01,\n",
       "        6.2650e+01,  6.3880e+01,  6.5110e+01,  6.6340e+01,  6.7570e+01,\n",
       "        6.8800e+01,  7.0030e+01,  7.1260e+01,  7.2490e+01,  7.3720e+01,\n",
       "        7.4950e+01,  7.6180e+01,  7.7410e+01,  7.8640e+01,  7.9870e+01,\n",
       "        8.1100e+01,  8.2330e+01,  8.3560e+01,  8.4790e+01,  8.6020e+01,\n",
       "        8.7250e+01,  8.8480e+01,  8.9710e+01,  9.0940e+01,  9.2170e+01,\n",
       "        9.3400e+01,  9.4630e+01,  9.5860e+01,  9.7090e+01,  9.8320e+01,\n",
       "        9.9550e+01,  1.0078e+02,  1.0201e+02,  1.0324e+02,  1.0447e+02,\n",
       "        1.0570e+02,  1.0693e+02,  1.0816e+02,  1.0939e+02,  1.1062e+02,\n",
       "        1.1185e+02,  1.1308e+02,  1.1431e+02,  1.1554e+02,  1.1677e+02,\n",
       "        1.1800e+02,  1.1923e+02,  1.2046e+02,  1.2169e+02,  1.2292e+02,\n",
       "        1.2415e+02,  1.2538e+02,  1.2661e+02,  1.2784e+02,  1.2907e+02,\n",
       "        1.3030e+02,  1.3153e+02,  1.3276e+02,  1.3399e+02,  1.3522e+02,\n",
       "        1.3645e+02,  1.3768e+02,  1.3891e+02,  1.4014e+02,  1.4137e+02,\n",
       "        1.4260e+02,  1.4383e+02,  1.4506e+02,  1.4629e+02,  1.4752e+02,\n",
       "        1.4875e+02,  1.4998e+02,  1.5121e+02,  1.5244e+02,  1.5367e+02,\n",
       "        1.5490e+02,  1.5613e+02,  1.5736e+02,  1.5859e+02,  1.5982e+02,\n",
       "        1.6105e+02,  1.6228e+02,  1.6351e+02,  1.6474e+02,  1.6597e+02,\n",
       "        1.6720e+02,  1.6843e+02,  1.6966e+02,  1.7089e+02,  1.7212e+02,\n",
       "        1.7335e+02,  1.7458e+02,  1.7581e+02,  1.7704e+02,  1.7827e+02,\n",
       "        1.7950e+02,  1.8073e+02,  1.8196e+02,  1.8319e+02,  1.8442e+02,\n",
       "        1.8565e+02,  1.8688e+02,  1.8811e+02,  1.8934e+02,  1.9057e+02,\n",
       "        1.9180e+02,  1.9303e+02,  1.9426e+02,  1.9549e+02,  1.9672e+02,\n",
       "        1.9795e+02,  1.9918e+02])"
      ]
     },
     "execution_count": 56,
     "metadata": {},
     "output_type": "execute_result"
    }
   ],
   "source": [
    "z = np.arange(-5, 200, 1.23) #Create an array z from -5 to 200 with an increment 1.23#\n",
    "z"
   ]
  },
  {
   "cell_type": "code",
   "execution_count": 57,
   "id": "99ab558d-6c29-4b9d-85f7-599b9238c66f",
   "metadata": {},
   "outputs": [
    {
     "data": {
      "text/plain": [
       "array([2.        , 2.63636364, 3.27272727, 3.90909091, 4.54545455,\n",
       "       5.18181818, 5.81818182, 6.45454545, 7.09090909, 7.72727273,\n",
       "       8.36363636, 9.        ])"
      ]
     },
     "execution_count": 57,
     "metadata": {},
     "output_type": "execute_result"
    }
   ],
   "source": [
    "np.linspace(2,9,12) #linspace(a,b,n) generates an array of n equally spaced elements starting from a and ending at b.#"
   ]
  },
  {
   "cell_type": "code",
   "execution_count": 15,
   "id": "da79db5f-12ee-42ab-ba58-cf0347bbaffe",
   "metadata": {},
   "outputs": [
    {
     "data": {
      "text/plain": [
       "2.0"
      ]
     },
     "execution_count": 15,
     "metadata": {},
     "output_type": "execute_result"
    }
   ],
   "source": [
    "import math\n",
    "math.sqrt(4)"
   ]
  },
  {
   "cell_type": "code",
   "execution_count": 3,
   "id": "11b6aaa8-a293-4637-b2b0-def96905d8cc",
   "metadata": {},
   "outputs": [
    {
     "data": {
      "text/plain": [
       "10.000000000000002"
      ]
     },
     "execution_count": 3,
     "metadata": {},
     "output_type": "execute_result"
    }
   ],
   "source": [
    "math.exp(math.log(10))"
   ]
  },
  {
   "cell_type": "markdown",
   "id": "e19702e7-823b-4a0f-bafe-3b136b432f89",
   "metadata": {},
   "source": [
    "The computer truncates the numbers, at the end we have a small error \"floating point error\"/\"truncation error\""
   ]
  },
  {
   "cell_type": "code",
   "execution_count": 4,
   "id": "79293c8b-8747-46e9-b564-da1170223d15",
   "metadata": {},
   "outputs": [
    {
     "data": {
      "text/plain": [
       "\u001b[0;31mSignature:\u001b[0m \u001b[0mmath\u001b[0m\u001b[0;34m.\u001b[0m\u001b[0mcomb\u001b[0m\u001b[0;34m(\u001b[0m\u001b[0mn\u001b[0m\u001b[0;34m,\u001b[0m \u001b[0mk\u001b[0m\u001b[0;34m,\u001b[0m \u001b[0;34m/\u001b[0m\u001b[0;34m)\u001b[0m\u001b[0;34m\u001b[0m\u001b[0;34m\u001b[0m\u001b[0m\n",
       "\u001b[0;31mDocstring:\u001b[0m\n",
       "Number of ways to choose k items from n items without repetition and without order.\n",
       "\n",
       "Evaluates to n! / (k! * (n - k)!) when k <= n and evaluates\n",
       "to zero when k > n.\n",
       "\n",
       "Also called the binomial coefficient because it is equivalent\n",
       "to the coefficient of k-th term in polynomial expansion of the\n",
       "expression (1 + x)**n.\n",
       "\n",
       "Raises TypeError if either of the arguments are not integers.\n",
       "Raises ValueError if either of the arguments are negative.\n",
       "\u001b[0;31mType:\u001b[0m      builtin_function_or_method"
      ]
     },
     "metadata": {},
     "output_type": "display_data"
    }
   ],
   "source": [
    "math.comb?"
   ]
  },
  {
   "cell_type": "code",
   "execution_count": 16,
   "id": "9ed8de2d-12b9-47b4-a976-8439c60726fd",
   "metadata": {},
   "outputs": [
    {
     "data": {
      "text/plain": [
       "316251"
      ]
     },
     "execution_count": 16,
     "metadata": {},
     "output_type": "execute_result"
    }
   ],
   "source": [
    "math.comb(54,4)"
   ]
  },
  {
   "cell_type": "code",
   "execution_count": 5,
   "id": "ed88a616-bfdc-44ed-a07d-21ce6c2e9e14",
   "metadata": {},
   "outputs": [
    {
     "ename": "ZeroDivisionError",
     "evalue": "division by zero",
     "output_type": "error",
     "traceback": [
      "\u001b[0;31m---------------------------------------------------------------------------\u001b[0m",
      "\u001b[0;31mZeroDivisionError\u001b[0m                         Traceback (most recent call last)",
      "Cell \u001b[0;32mIn[5], line 1\u001b[0m\n\u001b[0;32m----> 1\u001b[0m \u001b[38;5;241m1\u001b[39m\u001b[38;5;241m/\u001b[39m\u001b[38;5;241m0\u001b[39m\n",
      "\u001b[0;31mZeroDivisionError\u001b[0m: division by zero"
     ]
    }
   ],
   "source": [
    "1/0"
   ]
  },
  {
   "cell_type": "code",
   "execution_count": 6,
   "id": "fee79dae-0fae-420f-8395-1b8e421866e2",
   "metadata": {},
   "outputs": [
    {
     "data": {
      "text/plain": [
       "0.0"
      ]
     },
     "execution_count": 6,
     "metadata": {},
     "output_type": "execute_result"
    }
   ],
   "source": [
    "1/math.inf"
   ]
  },
  {
   "cell_type": "code",
   "execution_count": 7,
   "id": "51daba96-679f-4e01-92f0-7643f1c96ced",
   "metadata": {},
   "outputs": [
    {
     "data": {
      "text/plain": [
       "inf"
      ]
     },
     "execution_count": 7,
     "metadata": {},
     "output_type": "execute_result"
    }
   ],
   "source": [
    "math.inf*3"
   ]
  },
  {
   "cell_type": "code",
   "execution_count": 17,
   "id": "ea7d545f-7336-47f1-b610-22f9e9cb506d",
   "metadata": {},
   "outputs": [
    {
     "data": {
      "text/plain": [
       "nan"
      ]
     },
     "execution_count": 17,
     "metadata": {},
     "output_type": "execute_result"
    }
   ],
   "source": [
    "math.inf/math.inf"
   ]
  },
  {
   "cell_type": "markdown",
   "id": "c82d8876-85bd-44ea-972f-1397f5a1f455",
   "metadata": {},
   "source": [
    "It is not a number."
   ]
  },
  {
   "cell_type": "code",
   "execution_count": 9,
   "id": "79816869-9518-47e8-b823-7e4fb8bca96f",
   "metadata": {},
   "outputs": [
    {
     "data": {
      "text/plain": [
       "(3+4j)"
      ]
     },
     "execution_count": 9,
     "metadata": {},
     "output_type": "execute_result"
    }
   ],
   "source": [
    "complex(3,4)"
   ]
  },
  {
   "cell_type": "markdown",
   "id": "879ac202-a9e3-4857-8336-845c6192caea",
   "metadata": {},
   "source": [
    "j = sqrt(-1) be careful when using j for indexes"
   ]
  },
  {
   "cell_type": "code",
   "execution_count": 10,
   "id": "cd6ce007-64ce-4b74-ba86-b204dcca3810",
   "metadata": {},
   "outputs": [
    {
     "data": {
      "text/plain": [
       "(59-78j)"
      ]
     },
     "execution_count": 10,
     "metadata": {},
     "output_type": "execute_result"
    }
   ],
   "source": [
    "59-78j"
   ]
  },
  {
   "cell_type": "code",
   "execution_count": 11,
   "id": "415ec3f8-e7a8-4aeb-8c30-3ddecc14e920",
   "metadata": {},
   "outputs": [
    {
     "data": {
      "text/plain": [
       "int"
      ]
     },
     "execution_count": 11,
     "metadata": {},
     "output_type": "execute_result"
    }
   ],
   "source": [
    "type(45)"
   ]
  },
  {
   "cell_type": "code",
   "execution_count": 12,
   "id": "c2e24ee9-9796-4ec8-b504-a21ccab46815",
   "metadata": {},
   "outputs": [
    {
     "data": {
      "text/plain": [
       "float"
      ]
     },
     "execution_count": 12,
     "metadata": {},
     "output_type": "execute_result"
    }
   ],
   "source": [
    "type(456.)"
   ]
  },
  {
   "cell_type": "code",
   "execution_count": 18,
   "id": "7a26fb55-e263-4bba-a159-0c18dcaab74c",
   "metadata": {},
   "outputs": [
    {
     "data": {
      "text/plain": [
       "1"
      ]
     },
     "execution_count": 18,
     "metadata": {},
     "output_type": "execute_result"
    }
   ],
   "source": [
    "(4>3)+(5<-3) #VERY USEFUL FOR INDEXING, we get a numerical value doing an operation with the booleans."
   ]
  },
  {
   "cell_type": "code",
   "execution_count": 15,
   "id": "7a2914f3-a5c1-4159-a1eb-260cd746bd62",
   "metadata": {},
   "outputs": [
    {
     "name": "stdout",
     "output_type": "stream",
     "text": [
      "Variable   Type      Data/Info\n",
      "------------------------------\n",
      "math       module    <module 'math' from '/hom<...>311-x86_64-linux-gnu.so'>\n"
     ]
    }
   ],
   "source": [
    "whos"
   ]
  },
  {
   "cell_type": "markdown",
   "id": "88091278-a51c-45ea-980a-3f8033754072",
   "metadata": {},
   "source": [
    "Declared variables occupy RAM memory. The imported libraries also occupy memory."
   ]
  },
  {
   "cell_type": "markdown",
   "id": "8da31f88-85d7-4427-8a2a-3b48b5170f3d",
   "metadata": {},
   "source": [
    "# Class 3"
   ]
  },
  {
   "cell_type": "code",
   "execution_count": 19,
   "id": "80895379-1707-4ea3-af75-04fb2ccdcc77",
   "metadata": {},
   "outputs": [
    {
     "data": {
      "text/plain": [
       "6733299681380378676605473524587041584383710342543204023039739960502574477457225492231933334117486774983538670185205160467559864125955905649839355719878466374131642684471522816190109355772286699295747027454818978211351283009951291165553735805202676323062445324431574960583757833627508465731631397016563167282813339961777778425155920345683190314430267069261431001323586187835573537922118077459206053819583477896807588840070226893857645940877967342929555415474580401490768308280497543389348443405977760814659654534241716705034157643799702565564678636646590364992264379123541938963151005075926201536672643571326645257417470058076609582176973159715784023963217609902232187461947032453279367444730587830989793065673395410876675659828765382533313718576390756346756207244226581393007281797260271996599772276174019475161921598852610670742140171899745040503451930000879381801527006815135517323837275479437116794197667060360963075558185696985731448180190455631361593228934556687491196004545617527608574789669099139684770866264677353581436842209946222613277117189696565357031459316367780299641899871623551845285190195463117132603394898264064"
      ]
     },
     "execution_count": 19,
     "metadata": {},
     "output_type": "execute_result"
    }
   ],
   "source": [
    "(2454)**(333)"
   ]
  },
  {
   "cell_type": "code",
   "execution_count": 3,
   "id": "f9a16b07-ea49-4c31-a8fa-b4944c640476",
   "metadata": {},
   "outputs": [
    {
     "data": {
      "text/plain": [
       "1.0"
      ]
     },
     "execution_count": 3,
     "metadata": {},
     "output_type": "execute_result"
    }
   ],
   "source": [
    "import math\n",
    "math.cos(0)"
   ]
  },
  {
   "cell_type": "code",
   "execution_count": 4,
   "id": "006a6390-53bb-4ac2-8f22-43f00db0a470",
   "metadata": {},
   "outputs": [
    {
     "data": {
      "text/plain": [
       "24"
      ]
     },
     "execution_count": 4,
     "metadata": {},
     "output_type": "execute_result"
    }
   ],
   "source": [
    "math.factorial(4)"
   ]
  },
  {
   "cell_type": "code",
   "execution_count": 5,
   "id": "7358a3de-c41a-47d0-b53d-bf46b8c5c6e8",
   "metadata": {},
   "outputs": [
    {
     "data": {
      "text/plain": [
       "\u001b[0;31mSignature:\u001b[0m \u001b[0mmath\u001b[0m\u001b[0;34m.\u001b[0m\u001b[0mcomb\u001b[0m\u001b[0;34m(\u001b[0m\u001b[0mn\u001b[0m\u001b[0;34m,\u001b[0m \u001b[0mk\u001b[0m\u001b[0;34m,\u001b[0m \u001b[0;34m/\u001b[0m\u001b[0;34m)\u001b[0m\u001b[0;34m\u001b[0m\u001b[0;34m\u001b[0m\u001b[0m\n",
       "\u001b[0;31mDocstring:\u001b[0m\n",
       "Number of ways to choose k items from n items without repetition and without order.\n",
       "\n",
       "Evaluates to n! / (k! * (n - k)!) when k <= n and evaluates\n",
       "to zero when k > n.\n",
       "\n",
       "Also called the binomial coefficient because it is equivalent\n",
       "to the coefficient of k-th term in polynomial expansion of the\n",
       "expression (1 + x)**n.\n",
       "\n",
       "Raises TypeError if either of the arguments are not integers.\n",
       "Raises ValueError if either of the arguments are negative.\n",
       "\u001b[0;31mType:\u001b[0m      builtin_function_or_method"
      ]
     },
     "metadata": {},
     "output_type": "display_data"
    }
   ],
   "source": [
    "math.comb?"
   ]
  },
  {
   "cell_type": "code",
   "execution_count": 24,
   "id": "b6442553-e049-4b7c-ab5f-c7dfc615b423",
   "metadata": {},
   "outputs": [
    {
     "data": {
      "text/plain": [
       "29260"
      ]
     },
     "execution_count": 24,
     "metadata": {},
     "output_type": "execute_result"
    }
   ],
   "source": [
    "math.comb(57,54)"
   ]
  },
  {
   "cell_type": "code",
   "execution_count": 6,
   "id": "a841b1af-9a9d-469a-a5f5-5ecdf7ebf94d",
   "metadata": {},
   "outputs": [
    {
     "ename": "NameError",
     "evalue": "name 'inf' is not defined",
     "output_type": "error",
     "traceback": [
      "\u001b[0;31m---------------------------------------------------------------------------\u001b[0m",
      "\u001b[0;31mNameError\u001b[0m                                 Traceback (most recent call last)",
      "Cell \u001b[0;32mIn[6], line 1\u001b[0m\n\u001b[0;32m----> 1\u001b[0m inf\u001b[38;5;241m/\u001b[39minf\n",
      "\u001b[0;31mNameError\u001b[0m: name 'inf' is not defined"
     ]
    }
   ],
   "source": [
    "inf/inf"
   ]
  },
  {
   "cell_type": "code",
   "execution_count": 25,
   "id": "913eab82-ec4a-4621-a48e-456b3379464f",
   "metadata": {},
   "outputs": [
    {
     "data": {
      "text/plain": [
       "(45-9j)"
      ]
     },
     "execution_count": 25,
     "metadata": {},
     "output_type": "execute_result"
    }
   ],
   "source": [
    "complex(45,-9)"
   ]
  },
  {
   "cell_type": "code",
   "execution_count": 26,
   "id": "beabf37f-6f10-4316-9a66-f4ed23ddaefa",
   "metadata": {},
   "outputs": [
    {
     "data": {
      "text/plain": [
       "(6-9j)"
      ]
     },
     "execution_count": 26,
     "metadata": {},
     "output_type": "execute_result"
    }
   ],
   "source": [
    "6-9j"
   ]
  },
  {
   "cell_type": "code",
   "execution_count": 27,
   "id": "0a25d934-cb64-45b9-a2f5-e0ae9f066286",
   "metadata": {},
   "outputs": [
    {
     "data": {
      "text/plain": [
       "float"
      ]
     },
     "execution_count": 27,
     "metadata": {},
     "output_type": "execute_result"
    }
   ],
   "source": [
    "type(45.)"
   ]
  },
  {
   "cell_type": "code",
   "execution_count": 11,
   "id": "8d84af6e-fe54-49b8-8f50-d27ac88c28d8",
   "metadata": {},
   "outputs": [
    {
     "data": {
      "text/plain": [
       "False"
      ]
     },
     "execution_count": 11,
     "metadata": {},
     "output_type": "execute_result"
    }
   ],
   "source": [
    "#compare numbers\n",
    "2==-2"
   ]
  },
  {
   "cell_type": "code",
   "execution_count": 12,
   "id": "5aa925bf-a43d-4752-95d7-b22e48c10249",
   "metadata": {},
   "outputs": [
    {
     "data": {
      "text/plain": [
       "-1"
      ]
     },
     "execution_count": 12,
     "metadata": {},
     "output_type": "execute_result"
    }
   ],
   "source": [
    "(2==-2)-(1<5)"
   ]
  },
  {
   "cell_type": "code",
   "execution_count": 13,
   "id": "40a9fb10-0225-4057-83f7-0189533c7210",
   "metadata": {},
   "outputs": [
    {
     "name": "stdout",
     "output_type": "stream",
     "text": [
      "<class 'float'>\n"
     ]
    }
   ],
   "source": [
    "a=-56.\n",
    "print(type(a))"
   ]
  },
  {
   "cell_type": "code",
   "execution_count": 15,
   "id": "d3a5d81d-5fa9-4bf5-b317-15e9e4cdc056",
   "metadata": {},
   "outputs": [
    {
     "name": "stdout",
     "output_type": "stream",
     "text": [
      "Variable   Type      Data/Info\n",
      "------------------------------\n",
      "a          float     -56.0\n",
      "math       module    <module 'math' from '/hom<...>311-x86_64-linux-gnu.so'>\n"
     ]
    }
   ],
   "source": [
    "whos"
   ]
  },
  {
   "cell_type": "markdown",
   "id": "70226ebd-e1aa-46cb-a46a-9cd88afad226",
   "metadata": {},
   "source": [
    "# Procedural Oriented Programming (POP)"
   ]
  },
  {
   "cell_type": "markdown",
   "id": "05c7cfd3-3102-42c3-aa2e-ab3e334067af",
   "metadata": {},
   "source": [
    "Consists of writing instructions for the computer, and we don't care too much for the objects and classes in the background. We have inputs/variables, instructions and functions. Python functions are very important. This methodology is good for learning.\n",
    "\n",
    ".ipynb stands for interactive python notebooks.\n",
    "\n",
    "* Code is less reusable; functions need to be rewritten for different contexts\n",
    "\n",
    "* Data is separate from functions; functions manipulate global or local data."
   ]
  },
  {
   "cell_type": "markdown",
   "id": "bd582cf3-53b2-4358-8d06-8bcbe7ec4521",
   "metadata": {},
   "source": [
    "# Object Oriented Programming (OOP)"
   ]
  },
  {
   "cell_type": "markdown",
   "id": "52f7fa95-55f2-4772-97e9-7d08eb8c7abf",
   "metadata": {},
   "source": [
    "The code is organized in objects: classes, functions (methods, input/output, plotting. Here we use scripts: .py files.\n",
    "\n",
    "* Promotes reusability and scalability via inheritance and polymorphism.\n",
    "* Data and functions (methods) are encapsulated within objects."
   ]
  },
  {
   "cell_type": "code",
   "execution_count": 16,
   "id": "d3223f0f-b8b1-44d0-a837-3098b7dec142",
   "metadata": {},
   "outputs": [],
   "source": [
    "#delete a variable\n",
    "del a"
   ]
  },
  {
   "cell_type": "code",
   "execution_count": 17,
   "id": "f2d7eca0-bbc8-4fe5-acfb-e71e8fe8add7",
   "metadata": {},
   "outputs": [
    {
     "name": "stdout",
     "output_type": "stream",
     "text": [
      "Variable   Type      Data/Info\n",
      "------------------------------\n",
      "math       module    <module 'math' from '/hom<...>311-x86_64-linux-gnu.so'>\n"
     ]
    }
   ],
   "source": [
    "whos"
   ]
  },
  {
   "cell_type": "code",
   "execution_count": 30,
   "id": "81bc7c4a-e781-40e7-990f-92bcb942b5d4",
   "metadata": {},
   "outputs": [
    {
     "name": "stdout",
     "output_type": "stream",
     "text": [
      "<class 'str'>\n"
     ]
    },
    {
     "data": {
      "text/plain": [
       "1"
      ]
     },
     "execution_count": 30,
     "metadata": {},
     "output_type": "execute_result"
    }
   ],
   "source": [
    "#empty string\n",
    "m=\" \" \n",
    "print(type(m))\n",
    "len(m) #the space counts as one character"
   ]
  },
  {
   "cell_type": "code",
   "execution_count": 32,
   "id": "bdba6670-d14a-48bb-b32b-0d74605ff79f",
   "metadata": {},
   "outputs": [
    {
     "name": "stdout",
     "output_type": "stream",
     "text": [
      "7\n"
     ]
    }
   ],
   "source": [
    "f=\"file001\"\n",
    "print(len(f))"
   ]
  },
  {
   "cell_type": "code",
   "execution_count": 36,
   "id": "abc67b66-bde8-4fbc-8ece-b54ebef0327a",
   "metadata": {},
   "outputs": [
    {
     "name": "stdout",
     "output_type": "stream",
     "text": [
      "001\n",
      "ile\n"
     ]
    }
   ],
   "source": [
    "print(f[4:7]) #it iterates till endpoint-1\n",
    "print(f[1:4])"
   ]
  },
  {
   "cell_type": "code",
   "execution_count": 25,
   "id": "14a6c649-866c-4873-a5d3-c508acec1f9e",
   "metadata": {},
   "outputs": [
    {
     "data": {
      "text/plain": [
       "2"
      ]
     },
     "execution_count": 25,
     "metadata": {},
     "output_type": "execute_result"
    }
   ],
   "source": [
    "f.count(\"0\") #with dot we access functions within the class, here f is a class string"
   ]
  },
  {
   "cell_type": "code",
   "execution_count": 38,
   "id": "fc4dc688-2d53-40d5-825c-24c2ccc2e743",
   "metadata": {},
   "outputs": [
    {
     "data": {
      "text/plain": [
       "'filekospal1'"
      ]
     },
     "execution_count": 38,
     "metadata": {},
     "output_type": "execute_result"
    }
   ],
   "source": [
    "f.replace(\"00\",\"kospal\")"
   ]
  },
  {
   "cell_type": "code",
   "execution_count": 39,
   "id": "0622c451-e9e7-4d24-9b13-de2ad4222a1c",
   "metadata": {},
   "outputs": [
    {
     "data": {
      "text/plain": [
       "'file001'"
      ]
     },
     "execution_count": 39,
     "metadata": {},
     "output_type": "execute_result"
    }
   ],
   "source": [
    "f #even though we replace some element of the declared variable, in memory is stored the original value."
   ]
  },
  {
   "cell_type": "code",
   "execution_count": 45,
   "id": "191c75b3-8bed-476d-ac30-849c09a9646d",
   "metadata": {},
   "outputs": [
    {
     "data": {
      "text/plain": [
       "'f88001'"
      ]
     },
     "execution_count": 45,
     "metadata": {},
     "output_type": "execute_result"
    }
   ],
   "source": [
    "#to update memory, declare the variable again using\n",
    "f = f.replace(\"ile\",\"888978788\")\n",
    "f"
   ]
  },
  {
   "cell_type": "code",
   "execution_count": 47,
   "id": "856d22d8-be64-4f2a-8ed5-8ce79d92a5cc",
   "metadata": {},
   "outputs": [],
   "source": [
    "list_2=[\"kiol\", 8, -9., 46]"
   ]
  },
  {
   "cell_type": "code",
   "execution_count": 37,
   "id": "3fff9536-4f5e-4312-b91f-01df87f34cf9",
   "metadata": {},
   "outputs": [
    {
     "data": {
      "text/plain": [
       "4"
      ]
     },
     "execution_count": 37,
     "metadata": {},
     "output_type": "execute_result"
    }
   ],
   "source": [
    "len(list_2)"
   ]
  },
  {
   "cell_type": "code",
   "execution_count": 51,
   "id": "540edd8d-a179-42f6-8e98-a13e9706ecf7",
   "metadata": {},
   "outputs": [],
   "source": [
    "list_1=[4,7,9]"
   ]
  },
  {
   "cell_type": "code",
   "execution_count": 42,
   "id": "a2d2cc99-d895-4b97-8f19-8ff2a71ab5d9",
   "metadata": {},
   "outputs": [
    {
     "name": "stdout",
     "output_type": "stream",
     "text": [
      "<class 'list'>\n"
     ]
    }
   ],
   "source": [
    "print(type(list_1[0:2]))"
   ]
  },
  {
   "cell_type": "code",
   "execution_count": 43,
   "id": "98dfbe5d-b6f0-4812-8adc-77a49d5d21fd",
   "metadata": {},
   "outputs": [
    {
     "name": "stdout",
     "output_type": "stream",
     "text": [
      "<class 'float'>\n"
     ]
    }
   ],
   "source": [
    "print(type(list_2[2]))"
   ]
  },
  {
   "cell_type": "code",
   "execution_count": 45,
   "id": "bb7dff09-64f0-44a5-9fed-1637dff9cb00",
   "metadata": {},
   "outputs": [
    {
     "data": {
      "text/plain": [
       "8"
      ]
     },
     "execution_count": 45,
     "metadata": {},
     "output_type": "execute_result"
    }
   ],
   "source": [
    "list_2[-3]"
   ]
  },
  {
   "cell_type": "code",
   "execution_count": 48,
   "id": "d66fc03c-6a28-44ad-aaf1-3816ef39391a",
   "metadata": {},
   "outputs": [
    {
     "name": "stdout",
     "output_type": "stream",
     "text": [
      "['kiol', 8]\n"
     ]
    }
   ],
   "source": [
    "print(list_2[:2])#print all the values until the end point-1"
   ]
  },
  {
   "cell_type": "code",
   "execution_count": 55,
   "id": "0a51008b-9da6-44dd-a2cd-de230ff09a06",
   "metadata": {},
   "outputs": [
    {
     "name": "stdout",
     "output_type": "stream",
     "text": [
      "[4, 7, 9, 'kiol', 8, -9.0, 46]\n"
     ]
    }
   ],
   "source": [
    "list_3 = list_1 + list_2\n",
    "print(list_3)"
   ]
  },
  {
   "cell_type": "code",
   "execution_count": 56,
   "id": "d32de507-277c-4f55-8c0d-1214518a5cf4",
   "metadata": {},
   "outputs": [
    {
     "name": "stdout",
     "output_type": "stream",
     "text": [
      "0\n"
     ]
    }
   ],
   "source": [
    "m=[]\n",
    "print(len(m))"
   ]
  },
  {
   "cell_type": "code",
   "execution_count": 61,
   "id": "3b73d0fb-d704-4e85-92d2-eb42e1b05df8",
   "metadata": {},
   "outputs": [
    {
     "name": "stdout",
     "output_type": "stream",
     "text": [
      "[56, 56, 56, 56, 56]\n"
     ]
    }
   ],
   "source": [
    "m.append(56)\n",
    "print(m) #everytime this cells executes, it appends to the list m"
   ]
  },
  {
   "cell_type": "markdown",
   "id": "c1886fd9-dbbd-4ad9-be72-aa09e1441c65",
   "metadata": {},
   "source": [
    "## Tuples"
   ]
  },
  {
   "cell_type": "markdown",
   "id": "8c8f1764-4456-422d-9919-9df558c17796",
   "metadata": {},
   "source": [
    "A tuple is a set of numbers. They are used to retrieve information from functions."
   ]
  },
  {
   "cell_type": "code",
   "execution_count": 64,
   "id": "3ecb5b4c-2188-4e8f-b5ef-1f70c9fee36a",
   "metadata": {},
   "outputs": [
    {
     "data": {
      "text/plain": [
       "3"
      ]
     },
     "execution_count": 64,
     "metadata": {},
     "output_type": "execute_result"
    }
   ],
   "source": [
    "tuple_1=(45,654,12.) #tuples are not used for outputs, tha's why we cannot overwrite the objects\n",
    "len(tuple_1)"
   ]
  },
  {
   "cell_type": "code",
   "execution_count": 4,
   "id": "f8a324e4-b7d9-4100-818b-2de9946632c9",
   "metadata": {},
   "outputs": [
    {
     "name": "stdout",
     "output_type": "stream",
     "text": [
      "[(2.0, 3.0), 2.0, 'bye']\n"
     ]
    }
   ],
   "source": [
    "#Declare a tuple\n",
    "a_tuple=(2.,3.)\n",
    "\n",
    "#Define a list\n",
    "b_list=[a_tuple,2.,\"bye\"] #tuple inside a list works\n",
    "\n",
    "print(b_list)"
   ]
  },
  {
   "cell_type": "code",
   "execution_count": 5,
   "id": "e991141a-355b-4fcb-859f-272f6694fd24",
   "metadata": {},
   "outputs": [
    {
     "name": "stdout",
     "output_type": "stream",
     "text": [
      "([(2.0, 3.0), 2.0, 'bye'], 2.0, 3)\n"
     ]
    }
   ],
   "source": [
    "#a new tuple\n",
    "c_tuple=(b_list,2.,3) #list within a tuple also works\n",
    "print(c_tuple)"
   ]
  },
  {
   "cell_type": "code",
   "execution_count": 74,
   "id": "d3cb5064-5104-4abd-acba-7212a0e97da7",
   "metadata": {},
   "outputs": [
    {
     "name": "stdout",
     "output_type": "stream",
     "text": [
      "[(2.0, 3.0), 2.0, 'bye'] 3\n"
     ]
    }
   ],
   "source": [
    "\n",
    "x, _, z = c_tuple #_ is a mute variable\n",
    "\n",
    "print(x, z)"
   ]
  },
  {
   "cell_type": "markdown",
   "id": "0bf1609c-5b92-48e0-9b07-90ce92c89cdf",
   "metadata": {},
   "source": [
    "## Sets"
   ]
  },
  {
   "cell_type": "code",
   "execution_count": 76,
   "id": "189d240a-b657-4b5d-81f2-70f2ad19cede",
   "metadata": {},
   "outputs": [
    {
     "data": {
      "text/plain": [
       "{2, 5, 8, 9, 35, 45, 321}"
      ]
     },
     "execution_count": 76,
     "metadata": {},
     "output_type": "execute_result"
    }
   ],
   "source": [
    "{2,35,8,9,45,321,5}"
   ]
  },
  {
   "cell_type": "code",
   "execution_count": 79,
   "id": "0d1a2cbc-8a1a-4432-8c9e-46caa9337619",
   "metadata": {},
   "outputs": [
    {
     "name": "stdout",
     "output_type": "stream",
     "text": [
      "{321, 2, 35, 5, 8, 9, 45}\n"
     ]
    }
   ],
   "source": [
    "set_1=set([2,35,8,9,45,321,5])\n",
    "print(set_1)"
   ]
  },
  {
   "cell_type": "markdown",
   "id": "74acb2db-56ae-40d9-974d-b16e541de7cd",
   "metadata": {},
   "source": [
    "## Dictionaries"
   ]
  },
  {
   "cell_type": "markdown",
   "id": "24ab5e30-2e02-4359-9354-41a29ec5d900",
   "metadata": {},
   "source": [
    " To define dictionaries we also use {} (curly brackets), but need to define \"keys\" to individual elements."
   ]
  },
  {
   "cell_type": "markdown",
   "id": "5b1167e9-ecf1-459e-a342-223f868c9c40",
   "metadata": {},
   "source": [
    "Native python ojects:\n",
    "\n",
    "* lists -> []\n",
    "* tuples -> ()\n",
    "* sets -> {}\n",
    "* dictionaries -> {} , but uses keys and information\n",
    "  you can use the key for accessing the information"
   ]
  },
  {
   "cell_type": "code",
   "execution_count": 1,
   "id": "147f29b0-2c75-43b6-9391-274e630379b3",
   "metadata": {},
   "outputs": [],
   "source": [
    "\n",
    "universities_dict = {}"
   ]
  },
  {
   "cell_type": "code",
   "execution_count": 6,
   "id": "6416fcaa-883a-437d-8631-41ad91f95768",
   "metadata": {},
   "outputs": [
    {
     "name": "stdout",
     "output_type": "stream",
     "text": [
      "{'Espol': 'Guayas', 'Ecuador code': ([(2.0, 3.0), 2.0, 'bye'], 2.0, 3)}\n"
     ]
    }
   ],
   "source": [
    "universities_dict[\"Espol\"] = \"Guayas\"\n",
    "universities_dict[\"Ecuador code\"] = c_tuple #we can have elements of different type and length within the dictionary.\n",
    "print(universities_dict)"
   ]
  },
  {
   "cell_type": "code",
   "execution_count": 7,
   "id": "d6936faa-621a-4287-b825-e0889de53bb9",
   "metadata": {},
   "outputs": [
    {
     "data": {
      "text/plain": [
       "2"
      ]
     },
     "execution_count": 7,
     "metadata": {},
     "output_type": "execute_result"
    }
   ],
   "source": [
    "len(universities_dict) #the length yields the number of columns of the dictionary"
   ]
  },
  {
   "cell_type": "code",
   "execution_count": null,
   "id": "4440f576-c58e-4574-8f76-651db8ce8d27",
   "metadata": {},
   "outputs": [],
   "source": []
  }
 ],
 "metadata": {
  "kernelspec": {
   "display_name": "Python 3 (ipykernel)",
   "language": "python",
   "name": "python3"
  },
  "language_info": {
   "codemirror_mode": {
    "name": "ipython",
    "version": 3
   },
   "file_extension": ".py",
   "mimetype": "text/x-python",
   "name": "python",
   "nbconvert_exporter": "python",
   "pygments_lexer": "ipython3",
   "version": "3.11.11"
  }
 },
 "nbformat": 4,
 "nbformat_minor": 5
}
