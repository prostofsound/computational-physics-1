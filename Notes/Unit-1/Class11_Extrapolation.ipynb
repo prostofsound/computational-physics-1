{
 "cells": [
  {
   "cell_type": "markdown",
   "id": "b798271e-5edb-46e5-bdbd-db792a51644b",
   "metadata": {},
   "source": [
    "It is better to use Regression methods to extrapolate the data we have. We must use a physical motivated model.\n",
    "* We need to have a good physical motivation to extrapolate data."
   ]
  },
  {
   "cell_type": "code",
   "execution_count": null,
   "id": "09cdf597-f1e8-4441-b099-48069869a4b9",
   "metadata": {},
   "outputs": [],
   "source": []
  }
 ],
 "metadata": {
  "kernelspec": {
   "display_name": "Python 3 (ipykernel)",
   "language": "python",
   "name": "python3"
  },
  "language_info": {
   "codemirror_mode": {
    "name": "ipython",
    "version": 3
   },
   "file_extension": ".py",
   "mimetype": "text/x-python",
   "name": "python",
   "nbconvert_exporter": "python",
   "pygments_lexer": "ipython3",
   "version": "3.11.11"
  }
 },
 "nbformat": 4,
 "nbformat_minor": 5
}
