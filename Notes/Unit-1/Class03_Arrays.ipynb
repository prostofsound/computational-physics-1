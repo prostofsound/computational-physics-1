{
 "cells": [
  {
   "cell_type": "markdown",
   "id": "410ce148-51f8-45a4-89b5-029f0fa9bc99",
   "metadata": {},
   "source": [
    "numpy is the numerical python library.\n",
    "## ALWAYS CONVERT DATA INTO ARRAYS."
   ]
  },
  {
   "cell_type": "markdown",
   "id": "7cfed5b8-5fbb-405a-911d-e844533ce76a",
   "metadata": {},
   "source": [
    "* 1D arrays -> vectors\n",
    "* 2D arrays -> matrices, images\n",
    "* 3D arrays -> data cubes\n",
    "* ND arrays -> tensors,...\n",
    "  You can also have nested arrays."
   ]
  },
  {
   "cell_type": "code",
   "execution_count": 1,
   "id": "ff49fc20-be1d-4c7b-92da-d4b791d97d97",
   "metadata": {},
   "outputs": [],
   "source": [
    "import numpy as np"
   ]
  },
  {
   "cell_type": "code",
   "execution_count": 2,
   "id": "6c238ce1-e2f9-460b-a2a7-6dbb31c4e30c",
   "metadata": {},
   "outputs": [
    {
     "name": "stdout",
     "output_type": "stream",
     "text": [
      "<class 'tuple'> <class 'numpy.ndarray'> [5. 6. 7.]\n"
     ]
    }
   ],
   "source": [
    "# Create 1D vectors\n",
    "\n",
    "# Create a tuple\n",
    "a = (5., 6., 7.)\n",
    "\n",
    "# Convert a tuple into an array np.array()\n",
    "a_rr = np.array(a) #converts a native python object into an array\n",
    "\n",
    "print(type(a), type(a_rr),a_rr) #nd means n-dimensional arrays"
   ]
  },
  {
   "cell_type": "code",
   "execution_count": 3,
   "id": "abf2dc7c-81db-4300-81ec-0a6d2505980f",
   "metadata": {},
   "outputs": [
    {
     "name": "stdout",
     "output_type": "stream",
     "text": [
      "<class 'list'> <class 'numpy.ndarray'> [50.0, 60.0, 70.0]\n"
     ]
    }
   ],
   "source": [
    "\n",
    "# Create a list\n",
    "b_list = [50., 60., 70.]\n",
    "\n",
    "# Convert a list into an array np.array()\n",
    "b_rr = np.array(b_list)\n",
    "\n",
    "print(type(b_list), type(b_rr), b_list)"
   ]
  },
  {
   "cell_type": "code",
   "execution_count": 3,
   "id": "c293b84f-dc1e-4c1c-b2dc-35ba3f6ea52f",
   "metadata": {},
   "outputs": [
    {
     "name": "stdout",
     "output_type": "stream",
     "text": [
      "[1. 2. 3.] <class 'numpy.ndarray'>\n",
      "[1.+0.j 2.+0.j 3.+0.j] <class 'numpy.ndarray'>\n"
     ]
    }
   ],
   "source": [
    "# Using a specific data type:\n",
    "\n",
    "c_rr = np.array([1.,  2.,  3.], dtype=np.float32) #32 bits is 4 bytes, this in an array of floating point numbers. A SINGLE PRECISION array.\n",
    "c_rr = np.array([1.,  2.,  3.], dtype=np.float64) #64 bits is 8 bytes, this in an array of floating point numbers. A DOUBLE PRECISION array.\n",
    "# by default np.array outputs a single precision array\n",
    "#it has to do with the memory usage\n",
    "#for analyzing data, Single precision is enough, you truncate the numbers\n",
    "#for heavy simulations and complex calculations, Double precision should be used for better precision\n",
    "\n",
    "# A complex array:\n",
    "d_rr = np.array([1.,  2.,  3.], dtype=complex)\n",
    "\n",
    "print(c_rr, type(c_rr))\n",
    "print(d_rr, type(d_rr))"
   ]
  },
  {
   "cell_type": "code",
   "execution_count": 6,
   "id": "3b239580-7a37-4ddf-8758-38da9fdbcae5",
   "metadata": {},
   "outputs": [
    {
     "name": "stdout",
     "output_type": "stream",
     "text": [
      "3.141592653589793\n"
     ]
    }
   ],
   "source": [
    "print(np.pi)"
   ]
  },
  {
   "cell_type": "code",
   "execution_count": 5,
   "id": "0e8fdc0e-4257-4274-ab8b-24196d26c644",
   "metadata": {},
   "outputs": [
    {
     "name": "stdout",
     "output_type": "stream",
     "text": [
      "3\n",
      "3\n",
      "(3,)\n"
     ]
    }
   ],
   "source": [
    "print(len(c_rr))\n",
    "\n",
    "print(c_rr.size) #size is a function withing the numpy class, it yields the number of elements of the array\n",
    "\n",
    "print(c_rr.shape) #check the shape before multiplying arrays for example, it yields the size of the array"
   ]
  },
  {
   "cell_type": "markdown",
   "id": "9e4de680-f0e8-4d66-b76d-efe061738310",
   "metadata": {},
   "source": [
    "## 2D arrays"
   ]
  },
  {
   "cell_type": "code",
   "execution_count": 4,
   "id": "efeb0a39-26e6-47d1-a445-10662ec4bd50",
   "metadata": {},
   "outputs": [
    {
     "name": "stdout",
     "output_type": "stream",
     "text": [
      "[[ 1.  2.]\n",
      " [ 3.  4.]\n",
      " [-1.  3.]]\n",
      "6\n",
      "(3, 2)\n"
     ]
    }
   ],
   "source": [
    "# Generate 2D array from a nested list\n",
    "x_2d = np.array([[1., 2.], [3., 4.],[-1.,3.]])\n",
    "\n",
    "print(x_2d)\n",
    "\n",
    "print(x_2d.size)\n",
    "\n",
    "print(x_2d.shape) #the first index is for the rows and the second for columns\n",
    "     "
   ]
  },
  {
   "cell_type": "code",
   "execution_count": 6,
   "id": "84ea2c45-04f0-493c-a88e-bf42c41317e8",
   "metadata": {},
   "outputs": [
    {
     "data": {
      "image/png": "[encoded data removed]",
      "text/plain": [
       "<Figure size 640x480 with 1 Axes>"
      ]
     },
     "metadata": {},
     "output_type": "display_data"
    }
   ],
   "source": [
    "\n",
    "# Graphical representation of matrices\n",
    "\n",
    "import matplotlib.pyplot as plt\n",
    "\n",
    "plt.figure()\n",
    "\n",
    "plt.imshow(x_2d)\n",
    "plt.show()\n",
    "plt.close()"
   ]
  },
  {
   "cell_type": "markdown",
   "id": "a2786dd1-b164-45b0-8080-c74a7c77b9b0",
   "metadata": {},
   "source": [
    "## Vector generation"
   ]
  },
  {
   "cell_type": "code",
   "execution_count": 9,
   "id": "3ac4af4c-1a0f-41ba-8af1-5e9de5e0c4eb",
   "metadata": {},
   "outputs": [
    {
     "name": "stdout",
     "output_type": "stream",
     "text": [
      "[0.  0.1 0.2 0.3 0.4 0.5 0.6 0.7 0.8 0.9 1.  1.1 1.2 1.3 1.4 1.5 1.6 1.7\n",
      " 1.8 1.9 2. ]\n",
      "[0.  0.1 0.2 0.3 0.4 0.5 0.6 0.7 0.8 0.9 1.  1.1 1.2 1.3 1.4]\n",
      "[0.         0.16666667 0.33333333 0.5        0.66666667 0.83333333\n",
      " 1.         1.16666667 1.33333333 1.5        1.66666667 1.83333333\n",
      " 2.        ]\n"
     ]
    }
   ],
   "source": [
    "\n",
    "# Generate two axes:\n",
    "\n",
    "# .arange() inputs start point, endpoint and steps in between elements, it evaluates until less than endpoint\n",
    "x_axis = np.arange(0., 2.1, 0.1)\n",
    "x_axis_1 = np.arange(0., 1. +0.5, 0.1)\n",
    "\n",
    "print(x_axis)\n",
    "\n",
    "print(x_axis_1)\n",
    "\n",
    "# This is with linspace, which inputs start point, end point and number of elements. It evaluates including the endpoint too.\n",
    "y_axis = np.linspace(0., 2., 13) #the step size is chosen to evenly divide the interval\n",
    "\n",
    "print(y_axis)"
   ]
  },
  {
   "cell_type": "markdown",
   "id": "8d8d864e-4335-4ace-9022-65ede073927e",
   "metadata": {},
   "source": [
    "## Indexing"
   ]
  },
  {
   "cell_type": "code",
   "execution_count": 10,
   "id": "f534a78e-0cd7-4796-909e-34633f5e9df7",
   "metadata": {},
   "outputs": [
    {
     "name": "stdout",
     "output_type": "stream",
     "text": [
      "[0.  0.1 0.2 0.3 0.4 0.5 0.6 0.7 0.8 0.9]\n",
      "0.1\n",
      "[0.3 0.4 0.5 0.6 0.7 0.8 0.9]\n",
      "[0.  0.1]\n",
      "0.9\n",
      "0.7000000000000001\n"
     ]
    }
   ],
   "source": [
    "\n",
    "# Generate a new 1D vector:\n",
    "x = np.arange(0., 1., 0.1)\n",
    "print(x)\n",
    "\n",
    "# Indexing for the 2nd element\n",
    "print(x[1])\n",
    "\n",
    "# Indexing in one direction, : is used for everything else\n",
    "print(x[3:]) #the start point is included\n",
    "\n",
    "# Indexing in one direction, : is used for everything else \n",
    "print(x[:2]) #index until endpoint-1\n",
    "\n",
    "# Get the last element, which is accessed with -1\n",
    "print(x[-1])\n",
    "\n",
    "# Get the 3rd last element, which is accessed with -3\n",
    "print(x[-3])"
   ]
  },
  {
   "cell_type": "code",
   "execution_count": 13,
   "id": "f2786cb3-4844-4c88-a21c-64352e5de526",
   "metadata": {},
   "outputs": [
    {
     "name": "stdout",
     "output_type": "stream",
     "text": [
      "[[1. 2.]\n",
      " [3. 4.]]\n",
      "1.0\n",
      "3.0\n",
      "[3. 4.]\n",
      "[3. 4.]\n",
      "[1. 3.]\n",
      "[2. 4.]\n"
     ]
    }
   ],
   "source": [
    "# Now for 2D arrays\n",
    "x_2D = np.array([[1., 2.], [3., 4.]])\n",
    "print(x_2D)\n",
    "\n",
    "# Indexing is done with 2 numbers\n",
    "print(x_2D[0,0])\n",
    "\n",
    "# Indexing is done with 2 numbers\n",
    "print(x_2D[1,0]) #row 2 and column 1, in \"common\" lenguage\n",
    "\n",
    "# Indexing one row\n",
    "print(x_2D[1,:]) #the whole row 2\n",
    "print(x_2D[-1,:])\n",
    "\n",
    "# Indexing one column\n",
    "print(x_2D[:,0]) #the whole column 1\n",
    "\n",
    "# Indexing one column\n",
    "print(x_2D[:,-1]) #the last column\n",
    "     "
   ]
  },
  {
   "cell_type": "markdown",
   "id": "52fe32a0-9048-4042-af71-c5537acb84e6",
   "metadata": {},
   "source": [
    "## Matrices"
   ]
  },
  {
   "cell_type": "code",
   "execution_count": 3,
   "id": "a219851b-ffe7-4bff-9be1-85a3ff6d0a8f",
   "metadata": {},
   "outputs": [
    {
     "name": "stdout",
     "output_type": "stream",
     "text": [
      "[[0. 0. 0. 0. 0. 0.]\n",
      " [0. 0. 0. 0. 0. 0.]\n",
      " [0. 0. 0. 0. 0. 0.]\n",
      " [0. 0. 0. 0. 0. 0.]]\n",
      "(4, 6)\n",
      "24\n",
      "[[1. 1. 1. 1. 1. 1.]\n",
      " [1. 1. 1. 1. 1. 1.]\n",
      " [1. 1. 1. 1. 1. 1.]\n",
      " [1. 1. 1. 1. 1. 1.]]\n",
      "(4, 6)\n",
      "24\n"
     ]
    }
   ],
   "source": [
    "\n",
    "# Zero Matrix\n",
    "a_0 = np.zeros((4,6))\n",
    "\n",
    "print(a_0)\n",
    "print(a_0.shape)\n",
    "print(a_0.size)\n",
    "\n",
    "\n",
    "# Ones Matrix\n",
    "a_1 = np.ones((4,6))\n",
    "\n",
    "print(a_1)\n",
    "print(a_1.shape)\n",
    "print(a_1.size)"
   ]
  },
  {
   "cell_type": "code",
   "execution_count": 4,
   "id": "a29ea990-9e23-4c52-8745-ded684b617ca",
   "metadata": {},
   "outputs": [
    {
     "name": "stdout",
     "output_type": "stream",
     "text": [
      "[[1. 1. 1. 1. 1. 1.]\n",
      " [1. 1. 1. 1. 1. 1.]\n",
      " [1. 1. 1. 1. 1. 1.]\n",
      " [1. 1. 1. 1. 1. 1.]]\n",
      "[[ 1.  1.  1. 30.  1.  1.]\n",
      " [20. 20. 20. 20. 20. 20.]\n",
      " [ 1.  1.  1. 30.  1.  1.]\n",
      " [ 1.  1.  1. 30.  1.  1.]] 24 <class 'numpy.ndarray'>\n"
     ]
    }
   ],
   "source": [
    "# Empty Matrix\n",
    "a_e = np.empty((4,6)) #something weird is up with this numpy function\n",
    "print(a_e)\n",
    "\n",
    "# Fill up the matrix\n",
    "a_e[:,3] = 30. #the whole column 4\n",
    "\n",
    "a_e[1,:] = 20. #the whole row 2\n",
    "print(a_e, a_e.size, type(a_e))"
   ]
  },
  {
   "cell_type": "code",
   "execution_count": 17,
   "id": "bd1f76e1-a73a-42e0-8734-b0bc07842fbd",
   "metadata": {},
   "outputs": [
    {
     "name": "stdout",
     "output_type": "stream",
     "text": [
      "[[1. 0. 0.]\n",
      " [0. 1. 0.]\n",
      " [0. 0. 1.]]\n",
      "[[1. 0. 0.]\n",
      " [0. 1. 0.]\n",
      " [0. 0. 1.]]\n",
      "[[0. 0. 0.]\n",
      " [1. 0. 0.]\n",
      " [0. 1. 0.]]\n"
     ]
    }
   ],
   "source": [
    "# Identity matrix \n",
    "a_i = np.identity(3)\n",
    "print(a_i)\n",
    "\n",
    "# Diagonal 2D array\n",
    "a_d = np.eye(3, k=0) #specify the diagonal in the second input, positive numbers to go to the right and negative numbers to go down.\n",
    "print(a_d)\n",
    "\n",
    "# Diagonal 2D array\n",
    "a_dk = np.eye(3, k=-1)\n",
    "print(a_dk)\n",
    "\n",
    "##very useful for derivatives, e.g the finite difference method"
   ]
  },
  {
   "cell_type": "code",
   "execution_count": 26,
   "id": "e9dca86e-b863-43b1-bb59-d2689fd5c49e",
   "metadata": {},
   "outputs": [
    {
     "name": "stdout",
     "output_type": "stream",
     "text": [
      "[[ 2.  3.]\n",
      " [-1.  5.]]\n",
      "[[ 2. -1.]\n",
      " [ 3.  5.]]\n",
      "[[ 2. -1.]\n",
      " [ 3.  5.]]\n"
     ]
    }
   ],
   "source": [
    "\n",
    "# Transposes of matrices\n",
    "b_2D = np.array([[2., 3.], [-1., 5.]])\n",
    "print(b_2D)\n",
    "\n",
    "# Get transpose, we have two ways of doing this.\n",
    "b_2Dt1 = b_2D.transpose()\n",
    "print(b_2Dt1)\n",
    "\n",
    "b_2Dt2 = b_2D.T\n",
    "print(b_2Dt2)"
   ]
  },
  {
   "cell_type": "code",
   "execution_count": 27,
   "id": "52708a6d-09f1-40a0-9bf1-bb9fa4e57bc2",
   "metadata": {},
   "outputs": [
    {
     "name": "stdout",
     "output_type": "stream",
     "text": [
      "[[ 3. 10.]\n",
      " [ 8.  1.]]\n",
      "[[  1.  -4.]\n",
      " [-10.   9.]]\n",
      "[[  2.  21.]\n",
      " [ -9. -20.]]\n",
      "[[ 29.   2.]\n",
      " [ 44. -27.]]\n",
      "[[ 2.          0.42857143]\n",
      " [-0.11111111 -1.25      ]]\n",
      "[[ 2.000e+00  2.187e+03]\n",
      " [-1.000e+00  1.600e-03]]\n"
     ]
    }
   ],
   "source": [
    "\n",
    "# Operations\n",
    "c_2D = np.array([[1., 7.], [9., -4.]])\n",
    "\n",
    "# Sum the elements, this is element wise, just like the definition.\n",
    "s_2D = b_2D + c_2D\n",
    "print(s_2D)\n",
    "\n",
    "# Diff the elements, this is element wise, just like the definition.\n",
    "r_2D = b_2D - c_2D\n",
    "print(r_2D)\n",
    "\n",
    "# Element-wise multiplication, NOT to be confused with matrix multiplication. BE CAREFUL!\n",
    "m_2D = b_2D * c_2D\n",
    "print(m_2D)\n",
    "\n",
    "# Matrix multiplication\n",
    "M_2D = b_2D @ c_2D\n",
    "print(M_2D)\n",
    "\n",
    "# Element-wise division\n",
    "d_2D = b_2D / c_2D\n",
    "print(d_2D)\n",
    "\n",
    "# Element-wise exp\n",
    "e_2D = b_2D**c_2D\n",
    "print(e_2D)\n",
    "     "
   ]
  },
  {
   "cell_type": "markdown",
   "id": "1b35c5c4-64a4-4772-b6ad-3dac2289b963",
   "metadata": {},
   "source": [
    "## Vectorization"
   ]
  },
  {
   "cell_type": "markdown",
   "id": "82686fa3-ec76-44ee-a8f7-84f157ea563e",
   "metadata": {},
   "source": [
    "Create objects that accept ndarrays as inputs. Functions in python are vectorized."
   ]
  },
  {
   "cell_type": "code",
   "execution_count": 28,
   "id": "7474b1c8-d0f0-41b6-a5ad-52793a2daf8b",
   "metadata": {},
   "outputs": [
    {
     "name": "stdout",
     "output_type": "stream",
     "text": [
      "[1.         0.99500417 0.98006658 0.95533649 0.92106099 0.87758256\n",
      " 0.82533561 0.76484219 0.69670671 0.62160997]\n",
      "[[ 0.54030231 -0.41614684]\n",
      " [-0.9899925  -0.65364362]]\n",
      "[[1.         1.41421356]\n",
      " [1.73205081 2.        ]]\n"
     ]
    }
   ],
   "source": [
    "\n",
    "# Example: Cosine of a vector\n",
    "out_1 = np.cos(x)\n",
    "print(out_1)\n",
    "\n",
    "# This performs an element-wise calculation\n",
    "out_2 = np.cos(x_2D)\n",
    "print(out_2)\n",
    "\n",
    "# Example: sqrt of a vector\n",
    "out_3 = np.sqrt(x_2D)\n",
    "print(out_3)\n",
    "     "
   ]
  },
  {
   "cell_type": "markdown",
   "id": "afbc35ed-c362-4aa6-8d4e-efb844c0125b",
   "metadata": {},
   "source": [
    "## Indexing as conditionals"
   ]
  },
  {
   "cell_type": "code",
   "execution_count": 29,
   "id": "0f0d4f5f-5cda-4ea4-84d8-1c0db2b04ec9",
   "metadata": {},
   "outputs": [
    {
     "name": "stdout",
     "output_type": "stream",
     "text": [
      "[-1  6  7  9 10  3  4  2  1  0 -5]\n",
      "[False  True  True  True  True  True  True  True  True False False]\n",
      "[ 6  7  9 10  3  4  2  1]\n",
      "[6 7 0 0 3 4 2 1]\n"
     ]
    }
   ],
   "source": [
    "\n",
    "# Generate new vector\n",
    "y = np.array([-1, 6, 7, 9, 10, 3, 4, 2, 1, 0, -5])\n",
    "print(y)\n",
    "\n",
    "# Now, we apply logical operators:\n",
    "print(y > 0)\n",
    "\n",
    "# To get the values that satisfy the condition, we use the logical op. as an index\n",
    "z = y[y > 0] #get all the y values that satisfy this condition. This can replace the common indexes i and j, VERY IMPORTANT.\n",
    "print(z)\n",
    "\n",
    "# Replacing with conditionals\n",
    "z[z > 7.] = 0\n",
    "print(z)"
   ]
  }
 ],
 "metadata": {
  "kernelspec": {
   "display_name": "Python 3 (ipykernel)",
   "language": "python",
   "name": "python3"
  },
  "language_info": {
   "codemirror_mode": {
    "name": "ipython",
    "version": 3
   },
   "file_extension": ".py",
   "mimetype": "text/x-python",
   "name": "python",
   "nbconvert_exporter": "python",
   "pygments_lexer": "ipython3",
   "version": "3.11.11"
  }
 },
 "nbformat": 4,
 "nbformat_minor": 5
}
