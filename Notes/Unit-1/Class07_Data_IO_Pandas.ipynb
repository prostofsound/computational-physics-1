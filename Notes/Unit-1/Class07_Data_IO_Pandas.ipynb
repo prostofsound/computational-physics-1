{
 "cells": [
  {
   "cell_type": "code",
   "execution_count": 25,
   "id": "0ef025ca-f8f2-44e8-8e82-4aac2b7bdd56",
   "metadata": {},
   "outputs": [],
   "source": [
    "import pandas as pd #install pandas on anaconda\n",
    "import numpy as np\n",
    "import matplotlib.pyplot as plt"
   ]
  },
  {
   "cell_type": "markdown",
   "id": "e2183a58-1ba5-4242-a591-bfcb1cd53883",
   "metadata": {},
   "source": [
    "## IO Functions\n",
    "* open() -> native\n",
    "* pandas()-> third-party, user-friendly, Excel-like"
   ]
  },
  {
   "cell_type": "markdown",
   "id": "88e7498f-1839-44e5-8a63-53bb079ad109",
   "metadata": {},
   "source": [
    "* Data series -> 1D Data\n",
    "* Data frames -> 2D Data"
   ]
  },
  {
   "cell_type": "code",
   "execution_count": 26,
   "id": "30a286b0-70e7-4b2b-b08c-944699f66db3",
   "metadata": {},
   "outputs": [
    {
     "name": "stdout",
     "output_type": "stream",
     "text": [
      "<class 'dict'>\n",
      "[7.9, 8.2, 7.7, 5.9, 6.4]\n"
     ]
    }
   ],
   "source": [
    "# Create dict:\n",
    "mydataset = {\n",
    "  'physics': [\"HW1\", \"HW2\", \"HW3\", \"HW4\", \"HW5\"],\n",
    "  'grades': [7.9, 8.2, 7.7, 5.9, 6.4]\n",
    "}\n",
    "\n",
    "print(type(mydataset))\n",
    "print(mydataset['grades'])"
   ]
  },
  {
   "cell_type": "code",
   "execution_count": 27,
   "id": "5169cccc-d7a9-494d-993d-71c5b07965a8",
   "metadata": {},
   "outputs": [
    {
     "name": "stdout",
     "output_type": "stream",
     "text": [
      "<class 'pandas.core.frame.DataFrame'>\n",
      "  physics  grades\n",
      "0     HW1     7.9\n",
      "1     HW2     8.2\n",
      "2     HW3     7.7\n",
      "3     HW4     5.9\n",
      "4     HW5     6.4\n"
     ]
    }
   ],
   "source": [
    "#Place dict into a pandas DF:\n",
    "my_subjects = pd.DataFrame(mydataset)\n",
    "\n",
    "print(type(my_subjects)) #is a pandas object, a DataFrame\n",
    "\n",
    "print(my_subjects) #note we have the index/label on the left, could be combersome later but helpful to access the elements"
   ]
  },
  {
   "cell_type": "markdown",
   "id": "1b20f333-516a-4297-b73d-6102aa3df0a0",
   "metadata": {},
   "source": [
    "## Pandas Series\n",
    "* A Pandas Series is like a column in a table.\n",
    "* It is a one-dimensional array holding data of any type."
   ]
  },
  {
   "cell_type": "code",
   "execution_count": 28,
   "id": "08800621-cfef-483b-b3c0-e070718bfbde",
   "metadata": {},
   "outputs": [
    {
     "name": "stdout",
     "output_type": "stream",
     "text": [
      "0     1.0\n",
      "1    10.0\n",
      "2    20.0\n",
      "3    30.0\n",
      "dtype: float64\n"
     ]
    }
   ],
   "source": [
    "# Create list for series_1:\n",
    "\n",
    "series_1 = [1., 10., 20., 30.]\n",
    "\n",
    "my_series = pd.Series(series_1)\n",
    "\n",
    "print(my_series)"
   ]
  },
  {
   "cell_type": "code",
   "execution_count": 29,
   "id": "dcb40d1e-2b9b-40f1-b36c-577c1ff78b93",
   "metadata": {},
   "outputs": [
    {
     "name": "stdout",
     "output_type": "stream",
     "text": [
      "physics    [HW1, HW2, HW3, HW4, HW5]\n",
      "grades     [7.9, 8.2, 7.7, 5.9, 6.4]\n",
      "dtype: object <class 'pandas.core.series.Series'> 2\n"
     ]
    }
   ],
   "source": [
    "#When input a dictionary to Series() we get the one-dimensional array, but the indices/labels are the keys\n",
    "my_series_subjects = pd.Series(mydataset)\n",
    "print(my_series_subjects, type(my_series_subjects), len(my_series_subjects))"
   ]
  },
  {
   "cell_type": "markdown",
   "id": "b87ac05b-eb7c-4047-853b-d2a1439dbc37",
   "metadata": {},
   "source": [
    "## Labels\n",
    "* If nothing else is specified, the values are labeled with their index number.\n",
    "\n",
    "* The first value has index 0, the second value has index 1, etc.\n",
    "\n",
    "* This label can be used to access a specified value."
   ]
  },
  {
   "cell_type": "code",
   "execution_count": 30,
   "id": "a5725f20-e879-4035-ac4f-1c333d72dee9",
   "metadata": {},
   "outputs": [
    {
     "name": "stdout",
     "output_type": "stream",
     "text": [
      "20.0\n",
      "[7.9, 8.2, 7.7, 5.9, 6.4]\n"
     ]
    },
    {
     "name": "stderr",
     "output_type": "stream",
     "text": [
      "/tmp/ipykernel_20941/3875175673.py:2: FutureWarning: Series.__getitem__ treating keys as positions is deprecated. In a future version, integer keys will always be treated as labels (consistent with DataFrame behavior). To access a value by position, use `ser.iloc[pos]`\n",
      "  print(my_series_subjects[1])\n"
     ]
    }
   ],
   "source": [
    "print(my_series[2])\n",
    "print(my_series_subjects[1])"
   ]
  },
  {
   "cell_type": "code",
   "execution_count": 31,
   "id": "662a2dcf-dc5f-4090-bbf3-781646ffd911",
   "metadata": {},
   "outputs": [
    {
     "name": "stdout",
     "output_type": "stream",
     "text": [
      "one        1.0\n",
      "ten       10.0\n",
      "twenty    20.0\n",
      "thirty    30.0\n",
      "dtype: float64\n"
     ]
    }
   ],
   "source": [
    "#Create labels\n",
    "my_series = pd.Series(series_1, index = [\"one\", \"ten\", \"twenty\", \"thirty\"])\n",
    "print(my_series)"
   ]
  },
  {
   "cell_type": "code",
   "execution_count": 32,
   "id": "9ce52300-be32-4cc5-9a3e-6452fee807d2",
   "metadata": {},
   "outputs": [
    {
     "name": "stdout",
     "output_type": "stream",
     "text": [
      "phys                            NaN\n",
      "grades    [7.9, 8.2, 7.7, 5.9, 6.4]\n",
      "dtype: object\n"
     ]
    }
   ],
   "source": [
    "#Create labels\n",
    "my_series_subjects = pd.Series(mydataset, index = [\"phys\", \"grades\"])\n",
    "print(my_series_subjects)"
   ]
  },
  {
   "cell_type": "code",
   "execution_count": 33,
   "id": "31c827b6-f563-4ff3-a6f9-432d8a8f159b",
   "metadata": {},
   "outputs": [
    {
     "name": "stdout",
     "output_type": "stream",
     "text": [
      "[7.9, 8.2, 7.7, 5.9, 6.4]\n"
     ]
    }
   ],
   "source": [
    "print(my_series_subjects[\"grades\"])"
   ]
  },
  {
   "cell_type": "markdown",
   "id": "07f0a3ed-4f36-4fce-ac66-f94e30f76e80",
   "metadata": {},
   "source": [
    "# Pandas DataFrames"
   ]
  },
  {
   "cell_type": "code",
   "execution_count": 34,
   "id": "825ebf45-7c2a-45e9-88f3-bec51fd7ebfe",
   "metadata": {},
   "outputs": [
    {
     "name": "stdout",
     "output_type": "stream",
     "text": [
      "   calories  duration\n",
      "0       420        50\n",
      "1       380        40\n",
      "2       390        45\n"
     ]
    }
   ],
   "source": [
    "data = {\n",
    "  \"calories\": [420, 380, 390],\n",
    "  \"duration\": [50, 40, 45]\n",
    "}\n",
    "\n",
    "#load data into a DataFrame object:\n",
    "df = pd.DataFrame(data)\n",
    "\n",
    "print(df) "
   ]
  },
  {
   "cell_type": "code",
   "execution_count": 35,
   "id": "bc5e23f1-dac9-44a3-91ab-cda599a7d7e4",
   "metadata": {},
   "outputs": [
    {
     "name": "stdout",
     "output_type": "stream",
     "text": [
      "calories    420\n",
      "duration     50\n",
      "Name: 0, dtype: int64 <class 'pandas.core.series.Series'>\n"
     ]
    }
   ],
   "source": [
    "#Accessing a row, use the function loc\n",
    "\n",
    "print(df.loc[0], type(df.loc[0])) #use the row index/label\n",
    "#it returns a Panda Series"
   ]
  },
  {
   "cell_type": "code",
   "execution_count": 36,
   "id": "94198521-125e-4489-962d-4816ce6ffe10",
   "metadata": {},
   "outputs": [
    {
     "name": "stdout",
     "output_type": "stream",
     "text": [
      "   calories  duration\n",
      "0       420        50\n",
      "1       380        40 <class 'pandas.core.frame.DataFrame'>\n"
     ]
    }
   ],
   "source": [
    "#Accessing more rows\n",
    "\n",
    "print(df.loc[[0,1]], type(df.loc[[0,1]])) #use the row indeces/labels\n",
    "#it returns a Panda DataFrame"
   ]
  },
  {
   "cell_type": "markdown",
   "id": "efcb8327-83ca-4fcf-8be2-b2d02a872a55",
   "metadata": {},
   "source": [
    "## Named indexes"
   ]
  },
  {
   "cell_type": "code",
   "execution_count": 37,
   "id": "5cac1d58-aac7-403e-96aa-da0be2791ac7",
   "metadata": {},
   "outputs": [
    {
     "name": "stdout",
     "output_type": "stream",
     "text": [
      "      calories  duration\n",
      "day1       420        50\n",
      "day2       380        40\n",
      "day3       390        45\n"
     ]
    }
   ],
   "source": [
    "data = {\n",
    "  \"calories\": [420, 380, 390],\n",
    "  \"duration\": [50, 40, 45]\n",
    "}\n",
    "\n",
    "df = pd.DataFrame(data, index = [\"day1\", \"day2\", \"day3\"])\n",
    "\n",
    "print(df) "
   ]
  },
  {
   "cell_type": "code",
   "execution_count": 38,
   "id": "96e2f256-d766-4f52-990a-e1970d6ebc64",
   "metadata": {},
   "outputs": [
    {
     "name": "stdout",
     "output_type": "stream",
     "text": [
      "      calories  duration\n",
      "day2       380        40\n",
      "day1       420        50\n"
     ]
    }
   ],
   "source": [
    "#refer to the named index:\n",
    "print(df.loc[[\"day2\", \"day1\"]])"
   ]
  },
  {
   "cell_type": "markdown",
   "id": "ba700fd6-1597-4fda-b0aa-d149778e9b8e",
   "metadata": {},
   "source": [
    "## Load files into a DataFrame"
   ]
  },
  {
   "cell_type": "code",
   "execution_count": 39,
   "id": "88c2b531-e995-48db-9496-cdc34b21555e",
   "metadata": {},
   "outputs": [
    {
     "name": "stdout",
     "output_type": "stream",
     "text": [
      "   vector_ones   vector_tens   vector_twenties\n",
      "0          0.0          10.0              20.0\n",
      "1          1.0          11.0              21.0\n",
      "2          2.0          12.0              22.0\n",
      "3          3.0          13.0              23.0\n",
      "4          4.0          14.0              24.0\n",
      "5          5.0          15.0              25.0\n",
      "6          6.0          16.0              26.0\n",
      "7          7.0          17.0              27.0\n",
      "8          8.0          18.0              28.0\n",
      "9          9.0          19.0              29.0\n"
     ]
    }
   ],
   "source": [
    "df = pd.read_csv('/home/prostofsound/jnotebooks/COMP I/Notes/data/file_1.csv') #if the file contains strings and spaces, \n",
    "#also call the module sep to specify the separator \n",
    "#So, cat the file before reading!!\n",
    "\n",
    "print(df) #the file is being interpreted as a one column file, which is wrong"
   ]
  },
  {
   "cell_type": "code",
   "execution_count": 40,
   "id": "bf2e59b6-4ec2-4d97-b859-0f31efcdfcf1",
   "metadata": {},
   "outputs": [
    {
     "name": "stdout",
     "output_type": "stream",
     "text": [
      "   vector_ones   vector_tens   vector_twenties\n",
      "0          0.0          10.0              20.0\n",
      "1          1.0          11.0              21.0\n",
      "2          2.0          12.0              22.0\n",
      "3          3.0          13.0              23.0\n",
      "4          4.0          14.0              24.0\n",
      "5          5.0          15.0              25.0\n",
      "6          6.0          16.0              26.0\n",
      "7          7.0          17.0              27.0\n",
      "8          8.0          18.0              28.0\n",
      "9          9.0          19.0              29.0\n"
     ]
    }
   ],
   "source": [
    "df = pd.read_csv('/home/prostofsound/jnotebooks/COMP I/Notes/data/file_1.csv', sep = \",\")\n",
    "\n",
    "print(df)"
   ]
  },
  {
   "cell_type": "code",
   "execution_count": 41,
   "id": "fd31b903-e763-4a6d-b553-b294be57a721",
   "metadata": {},
   "outputs": [
    {
     "name": "stdout",
     "output_type": "stream",
     "text": [
      "vector_ones          5.0\n",
      " vector_tens        15.0\n",
      " vector_twenties    25.0\n",
      "Name: 5, dtype: float64\n",
      "0    10.0\n",
      "1    11.0\n",
      "2    12.0\n",
      "3    13.0\n",
      "4    14.0\n",
      "5    15.0\n",
      "6    16.0\n",
      "7    17.0\n",
      "8    18.0\n",
      "9    19.0\n",
      "Name:  vector_tens, dtype: float64\n",
      "16.0\n"
     ]
    }
   ],
   "source": [
    "print(df.loc[5])\n",
    "\n",
    "print(df[\" vector_tens\"])\n",
    "\n",
    "print(df[\" vector_tens\"][6]) #we use the index/label, not the position as with arrays/lists"
   ]
  },
  {
   "cell_type": "markdown",
   "id": "87055baa-1b94-4e13-b243-1517863b8216",
   "metadata": {},
   "source": [
    "## Excercise: Reading simulation data of a cloud embedded in a wind, with Pandas"
   ]
  },
  {
   "cell_type": "code",
   "execution_count": 42,
   "id": "f5ce08a0-ddf6-45ca-a6f3-f48d6adf7efc",
   "metadata": {},
   "outputs": [
    {
     "name": "stdout",
     "output_type": "stream",
     "text": [
      "         Time     Mass1     FluxH      FluxE\n",
      "0    0.000000  61.18026  8.262365   8.262365\n",
      "1    0.099800  61.18028  8.262365   8.262365\n",
      "2    0.199956  61.18033  8.262365   8.262365\n",
      "3    0.299681  61.18041  7.561459   8.262365\n",
      "4    0.399916  61.18043  7.927189   8.262365\n",
      "..        ...       ...       ...        ...\n",
      "96   9.599985  23.29446  8.262365  10.585580\n",
      "97   9.699971  20.33465  8.262365  11.147210\n",
      "98   9.799818  17.66679  8.262365  12.601620\n",
      "99   9.899956  15.14736  8.262365  12.675020\n",
      "100  9.999821  12.79309  8.262365  12.691090\n",
      "\n",
      "[101 rows x 4 columns]\n",
      "<class 'pandas.core.frame.DataFrame'>\n"
     ]
    }
   ],
   "source": [
    "# First we need to read the data and place it into a pd DF\n",
    "\n",
    "data_wc = pd.read_csv(\"/home/prostofsound/jnotebooks/COMP I/Notes/data/data_wind_cloud.dat\", sep = \"\\s+\") #\\s+ since the spacing between elements is one space or more\n",
    "\n",
    "print(data_wc)\n",
    "\n",
    "print(type(data_wc)) #this dataframe file always have an index on the left"
   ]
  },
  {
   "cell_type": "code",
   "execution_count": 43,
   "id": "309c522e-de3b-4d8b-a315-2ca5f80d4cde",
   "metadata": {},
   "outputs": [
    {
     "name": "stdout",
     "output_type": "stream",
     "text": [
      "[0.         0.09980016 0.1999556  0.299681   0.399916   0.4997105\n",
      " 0.5997653  0.6999839  0.7998617  0.8998577  0.9998068  1.099872\n",
      " 1.199948   1.299926   1.399905   1.499916   1.599893   1.699951\n",
      " 1.799934   1.89991    1.999953   2.099911   2.19989    2.299931\n",
      " 2.399924   2.499999   2.599998   2.699871   2.799929   2.899973\n",
      " 2.999907   3.099908   3.199866   3.29998    3.399886   3.499975\n",
      " 3.599933   3.699991   3.799898   3.899875   3.999934   4.099867\n",
      " 4.199992   4.299838   4.399916   4.4999     4.599816   4.699879\n",
      " 4.799859   4.899898   4.999963   5.099815   5.199829   5.299736\n",
      " 5.399895   5.499949   5.599699   5.699848   5.799772   5.899714\n",
      " 5.999899   6.099827   6.199733   6.299713   6.399739   6.499841\n",
      " 6.599835   6.699715   6.799985   6.899997   6.999752   7.09991\n",
      " 7.199678   7.299979   7.39987    7.499752   7.599726   7.699977\n",
      " 7.799823   7.899762   7.999789   8.099956   8.199907   8.299865\n",
      " 8.39968    8.499951   8.599983   8.699736   8.799808   8.899926\n",
      " 8.999903   9.099972   9.199946   9.299812   9.399996   9.499858\n",
      " 9.599985   9.699971   9.799818   9.899956   9.999821  ]\n",
      "<class 'numpy.ndarray'>\n"
     ]
    }
   ],
   "source": [
    "# Get the data from each column into arrays:\n",
    "\n",
    "times = np.array(data_wc[\"Time\"])\n",
    "massc = np.array(data_wc[\"Mass1\"])\n",
    "fluxh = np.array(data_wc[\"FluxH\"])\n",
    "fluxe = np.array(data_wc[\"FluxE\"])\n",
    "\n",
    "print(times)\n",
    "print(type(times))\n",
    "#print(fluxe)"
   ]
  },
  {
   "cell_type": "code",
   "execution_count": 44,
   "id": "de1bf296-049e-49e3-b3de-af6996aa7f5d",
   "metadata": {},
   "outputs": [
    {
     "data": {
      "image/png": "[encoded data removed]",
      "text/plain": [
       "<Figure size 400x300 with 1 Axes>"
      ]
     },
     "metadata": {},
     "output_type": "display_data"
    }
   ],
   "source": [
    "#Plotting mass vs time\n",
    "plt.figure(figsize=(4,3))\n",
    "\n",
    "plt.plot(times, massc, linestyle = \"--\", color = \"red\",label = r\"$M_{\\rm cloud}$\")\n",
    "\n",
    "plt.legend()\n",
    "\n",
    "plt.xlabel(r\"$t$\")\n",
    "plt.ylabel(r\"$M_{\\rm cloud}$\")\n",
    "\n",
    "plt.show()"
   ]
  },
  {
   "cell_type": "code",
   "execution_count": 45,
   "id": "82e7c59a-44b4-4615-8ed0-7335b946e66e",
   "metadata": {},
   "outputs": [
    {
     "data": {
      "image/png": "[encoded data removed]",
      "text/plain": [
       "<Figure size 400x300 with 1 Axes>"
      ]
     },
     "metadata": {},
     "output_type": "display_data"
    }
   ],
   "source": [
    "plt.figure(figsize=(4,3))\n",
    "\n",
    "plt.plot(times, fluxh, linestyle = \"--\", color = \"blue\",\\\n",
    "         label = r\"$\\dot{M}_{\\rm cloud, H}$\")\n",
    "plt.plot(times, fluxe, linestyle = \"--\", color = \"green\",\\\n",
    "         label = r\"$\\dot{M}_{\\rm cloud, E}$\")\n",
    "\n",
    "plt.legend()\n",
    "\n",
    "plt.xlabel(r\"$t$\")\n",
    "plt.ylabel(r\"${\\dot M}_{\\rm cloud}$\")\n",
    "\n",
    "plt.show()"
   ]
  },
  {
   "cell_type": "markdown",
   "id": "0fd8b8d1-565e-422a-9435-7f260eabe64c",
   "metadata": {},
   "source": [
    "## Using our own IO functions"
   ]
  },
  {
   "cell_type": "code",
   "execution_count": 46,
   "id": "02b866f5-17f7-404f-8065-6b3786c33181",
   "metadata": {},
   "outputs": [],
   "source": [
    "def ioread(filename):\n",
    "    '''\n",
    "    This is a function that reads a data file using Pandas and converts the columns of the file into arrays,\n",
    "    so we can access them easier by indexing.\n",
    "    It is also important to mention, this function assumes the separation between the elements to be more than two spaces.\n",
    "    Input: \"filename\" (str, this should be the path to the file)\n",
    "    Output: numpy arrays\n",
    "    Author: PROST\n",
    "    Data: 26/02/2025\n",
    "    '''\n",
    "    #cat the file before working with it\n",
    "    file1 = pd.read_csv(\"filename\", sep = \"\\s+\") #file1 is a DataFrame, so we can access the columns by the headers\n",
    "\n",
    "    column1 = np.array(file1[\"Header1\"])\n",
    "    column2 = np.array(file1[\"Header2\"])\n",
    "    column3 = np.array(file1[\"Header3\"])\n",
    "    column4 = np.array(file1[\"Header4\"]) #add as many arrays as columns in the file\n",
    "\n",
    "    return colum1, column2, column3, column4\n",
    "    \n",
    "    "
   ]
  },
  {
   "cell_type": "code",
   "execution_count": 47,
   "id": "ec901275-fb88-4936-b537-000bbcf3da99",
   "metadata": {},
   "outputs": [],
   "source": [
    "# Start our I/O function\n",
    "\n",
    "def io_data_wc(filename):\n",
    "    \"\"\"\n",
    "    This is a function that reads in the data file for a cloud inside a wind chamber\n",
    "    and returns numpy arrays with the data in each\n",
    "    column. \n",
    "    Input: filename (str)\n",
    "    Outputs: numpy arrays\n",
    "    Author: WEBB\n",
    "    Date: 06.03.2024\n",
    "    \"\"\"\n",
    "    \n",
    "    # Create a pandas DF:\n",
    "    data_wc = pd.read_csv(filename, sep = \"\\s+\")\n",
    "    \n",
    "    # Get the data from each column into arrays:\n",
    "    times = np.array(data_wc[\"Time\"])\n",
    "    massc = np.array(data_wc[\"Mass1\"])\n",
    "    fluxh = np.array(data_wc[\"FluxH\"])\n",
    "    fluxe = np.array(data_wc[\"FluxE\"])\n",
    "\n",
    "    return times, massc, fluxh, fluxe"
   ]
  },
  {
   "cell_type": "code",
   "execution_count": 48,
   "id": "6bf4a0b5-3b5e-4a49-a8f9-019b829b0be3",
   "metadata": {},
   "outputs": [],
   "source": [
    "# Set the filename:\n",
    "\n",
    "filename1 = \"/home/prostofsound/jnotebooks/COMP I/Notes/data/data_wind_cloud.dat\"\n",
    "\n",
    "# Call your function to open the file and get the data into a tuple\n",
    "\n",
    "t, m, fh, fe = io_data_wc(filename1)"
   ]
  },
  {
   "cell_type": "code",
   "execution_count": 49,
   "id": "b0bea39f-471b-4ccd-91a0-e59d090f5f6e",
   "metadata": {},
   "outputs": [
    {
     "data": {
      "image/png": "[encoded data removed]",
      "text/plain": [
       "<Figure size 400x300 with 1 Axes>"
      ]
     },
     "metadata": {},
     "output_type": "display_data"
    }
   ],
   "source": [
    "plt.figure(figsize=(4,3))\n",
    "\n",
    "plt.plot(t, m, linestyle = \"--\", color = \"red\",\\\n",
    "         label = r\"$M_{\\rm cloud}$\")\n",
    "\n",
    "plt.legend()\n",
    "\n",
    "plt.xlabel(r\"$t$\")\n",
    "plt.ylabel(r\"$M_{\\rm cloud}$\")\n",
    "\n",
    "plt.show()"
   ]
  },
  {
   "cell_type": "markdown",
   "id": "c6f83709-1969-439e-bd7b-c4fffdd690c4",
   "metadata": {},
   "source": [
    "## Basic Data Analysis\n",
    "Suppose now that we want to work with the data, not just see them in plots, but actually use them for calculations.\n",
    "\n",
    "To achieve this Python offers a large range of functions, e.g. say we want to multiply the array of times by 1 minute in seconds, and then save this in a new file jointly with the cloud mass."
   ]
  },
  {
   "cell_type": "code",
   "execution_count": 50,
   "id": "0352dbd4-8cce-40d2-a9c2-bc2eb3efb160",
   "metadata": {},
   "outputs": [],
   "source": [
    "# Conversions to SI\n",
    "# Multiple the time vector by 60 seconds = 1 min.\n",
    "\n",
    "t_new = t*60. # time in seconds\n",
    "\n",
    "# Multiply the mass vector by 1./1000.\n",
    "\n",
    "m_new = m/1000. # mass in kg"
   ]
  },
  {
   "cell_type": "code",
   "execution_count": 51,
   "id": "16bd5bab-7e66-4d56-93c5-7cd38f2bacf6",
   "metadata": {},
   "outputs": [
    {
     "data": {
      "image/png": "[encoded data removed]",
      "text/plain": [
       "<Figure size 400x300 with 1 Axes>"
      ]
     },
     "metadata": {},
     "output_type": "display_data"
    }
   ],
   "source": [
    "#plot in SI units\n",
    "plt.figure(figsize=(4,3))\n",
    "\n",
    "plt.plot(t_new, m_new, linestyle = \"-\", color = \"red\",\\\n",
    "         label = r\"$M_{\\rm cloud}$\")\n",
    "\n",
    "plt.legend()\n",
    "\n",
    "plt.xlabel(r\"$t\\,\\rm [s]$\")\n",
    "plt.ylabel(r\"$M_{\\rm cloud}\\,\\rm [kg]$\")\n",
    "\n",
    "plt.show()"
   ]
  },
  {
   "cell_type": "code",
   "execution_count": 52,
   "id": "afb997b3-f28e-4215-ab30-9787e1240599",
   "metadata": {},
   "outputs": [
    {
     "name": "stdout",
     "output_type": "stream",
     "text": [
      "         time_s   mass_kg\n",
      "0      0.000000  0.061180\n",
      "1      5.988010  0.061180\n",
      "2     11.997336  0.061180\n",
      "3     17.980860  0.061180\n",
      "4     23.994960  0.061180\n",
      "..          ...       ...\n",
      "96   575.999100  0.023294\n",
      "97   581.998260  0.020335\n",
      "98   587.989080  0.017667\n",
      "99   593.997360  0.015147\n",
      "100  599.989260  0.012793\n",
      "\n",
      "[101 rows x 2 columns]\n"
     ]
    }
   ],
   "source": [
    "#Now, to save this new date we use another dataframe\n",
    "# 1. Create a dict\n",
    "\n",
    "new_dict = {\"time_s\": t_new, \"mass_kg\": m_new}\n",
    "\n",
    "# 2. Converting our dict into a DF\n",
    "\n",
    "new_df = pd.DataFrame(new_dict)\n",
    "\n",
    "print(new_df)"
   ]
  },
  {
   "cell_type": "code",
   "execution_count": 53,
   "id": "4a055fe6-a3db-47bd-934b-ffe56e21d2f7",
   "metadata": {},
   "outputs": [
    {
     "name": "stderr",
     "output_type": "stream",
     "text": [
      "/tmp/ipykernel_20941/836208053.py:2: FutureWarning: Starting with pandas version 3.0 all arguments of to_csv except for the argument 'path_or_buf' will be keyword-only.\n",
      "  new_df.to_csv(\"/home/prostofsound/jnotebooks/COMP I/Notes/data/newest_data_wind_cloud.csv\", \",\",\\\n"
     ]
    }
   ],
   "source": [
    "#Save the file, converting the DataFrame to a .csv file\n",
    "new_df.to_csv(\"/home/prostofsound/jnotebooks/COMP I/Notes/data/newest_data_wind_cloud.csv\", \",\",\\\n",
    "              float_format = \"{:.4e}\".format, index=False) #no spacing, exponential notation and not saving the labels column"
   ]
  },
  {
   "cell_type": "markdown",
   "id": "4ead5958-c611-46e9-bd4a-e21360b36546",
   "metadata": {},
   "source": [
    "## Example: Burned calories during excercise"
   ]
  },
  {
   "cell_type": "code",
   "execution_count": 54,
   "id": "2132af88-521c-4796-b9e3-64f5fb4655a7",
   "metadata": {},
   "outputs": [],
   "source": [
    "# Always inspect files on the terminal\n",
    "# Start our I/O function \n",
    "\n",
    "def io_data_cal(filename):\n",
    "    \n",
    "    \"\"\"\n",
    "    This is a function that reads in a data file \n",
    "    and returns numpy arrays with the data in each\n",
    "    column. \n",
    "    Input: filename (str)\n",
    "    Outputs: numpy arrays\n",
    "    Author: WEBB\n",
    "    Date: 06.03.2024\n",
    "    \"\"\"\n",
    "    \n",
    "    # Create a pandas DF:\n",
    "    data_wc = pd.read_csv(filename, sep = \",\") #we set the separation to \",\" because we cat the file before!\n",
    "    \n",
    "    # Get the data from each column into arrays:\n",
    "    dur = np.array(data_wc[\"Duration\"])\n",
    "    pul = np.array(data_wc[\"Pulse\"])\n",
    "    mpu = np.array(data_wc[\"Maxpulse\"])\n",
    "    cal = np.array(data_wc[\"Calories\"])\n",
    "    \n",
    "    return dur, pul, mpu, cal"
   ]
  },
  {
   "cell_type": "code",
   "execution_count": 55,
   "id": "0b44be7a-ff97-4e57-98b2-b6fa41e3a317",
   "metadata": {},
   "outputs": [],
   "source": [
    "# Call our function\n",
    "\n",
    "dur_1, pul_1, mpu_1, cal_1 = io_data_cal(\"/home/prostofsound/jnotebooks/COMP I/Notes/data/data_calories.csv\")\n",
    "\n",
    "#print(pul_1) #it is converted to an 1D array, as expected. And we can work easier with the data"
   ]
  },
  {
   "cell_type": "code",
   "execution_count": 56,
   "id": "6e27d412-9ced-4aca-a4f5-81bcab6787dd",
   "metadata": {},
   "outputs": [
    {
     "name": "stderr",
     "output_type": "stream",
     "text": [
      "/tmp/ipykernel_20941/145698623.py:7: FutureWarning: Starting with pandas version 3.0 all arguments of to_csv except for the argument 'path_or_buf' will be keyword-only.\n",
      "  new_df2.to_csv(\"/home/prostofsound/jnotebooks/COMP I/Notes/data/new_data_calories.csv\", \",\", \\\n"
     ]
    }
   ],
   "source": [
    "# Writing a new data frame\n",
    "\n",
    "new_df2 = pd.DataFrame({\"mpu\": mpu_1, \"cal\": cal_1})\n",
    "\n",
    "# Output a new post-processed file\n",
    "\n",
    "new_df2.to_csv(\"/home/prostofsound/jnotebooks/COMP I/Notes/data/new_data_calories.csv\", \",\", \\\n",
    "              float_format = \"{:.2e}\".format, index = None)"
   ]
  },
  {
   "cell_type": "code",
   "execution_count": 57,
   "id": "8c034cc5-781c-44d9-823d-e4578b35921d",
   "metadata": {},
   "outputs": [
    {
     "data": {
      "image/png": "[encoded data removed]",
      "text/plain": [
       "<Figure size 640x480 with 1 Axes>"
      ]
     },
     "metadata": {},
     "output_type": "display_data"
    }
   ],
   "source": [
    "#Plot calories vs max pulse\n",
    "plt.figure()\n",
    "\n",
    "plt.plot(mpu_1, cal_1, marker = \"+\", linestyle = \" \") #remember to remove the linestyle to avoid connecting the points\n",
    "\n",
    "plt.xlabel(\"Max Pulse\")\n",
    "plt.ylabel(\"Calories\")\n",
    "\n",
    "plt.show() #we have two gropus: athletes (upper points) and people who don't excercise often (bundled points)"
   ]
  },
  {
   "cell_type": "code",
   "execution_count": 58,
   "id": "61b01a03-1b4b-4cde-8f0b-b766b1bfaaf4",
   "metadata": {},
   "outputs": [
    {
     "data": {
      "image/png": "[encoded data removed]",
      "text/plain": [
       "<Figure size 640x480 with 1 Axes>"
      ]
     },
     "metadata": {},
     "output_type": "display_data"
    }
   ],
   "source": [
    "#Plot calories vs pulse\n",
    "plt.figure()\n",
    "\n",
    "plt.plot(pul_1, cal_1, marker = \"d\", linestyle = \" \", color = \"red\")\n",
    "\n",
    "plt.xlabel(\"Pulse\")\n",
    "plt.ylabel(\"Calories\")\n",
    "\n",
    "plt.show()"
   ]
  },
  {
   "cell_type": "code",
   "execution_count": 59,
   "id": "b7564228-03a4-4b98-8768-e24ea4a5a3b7",
   "metadata": {},
   "outputs": [
    {
     "data": {
      "image/png": "[encoded data removed]",
      "text/plain": [
       "<Figure size 640x480 with 1 Axes>"
      ]
     },
     "metadata": {},
     "output_type": "display_data"
    }
   ],
   "source": [
    "#Plot duration vs calories\n",
    "plt.figure()\n",
    "\n",
    "plt.plot(dur_1, cal_1, marker = \"o\", linestyle = \" \")\n",
    "\n",
    "plt.xlabel(\"Duration\")\n",
    "plt.ylabel(\"Calories\")\n",
    "\n",
    "plt.show() #for everyone, doing excercise burns calories, we see a linear relation"
   ]
  }
 ],
 "metadata": {
  "kernelspec": {
   "display_name": "Python 3 (ipykernel)",
   "language": "python",
   "name": "python3"
  },
  "language_info": {
   "codemirror_mode": {
    "name": "ipython",
    "version": 3
   },
   "file_extension": ".py",
   "mimetype": "text/x-python",
   "name": "python",
   "nbconvert_exporter": "python",
   "pygments_lexer": "ipython3",
   "version": "3.11.11"
  }
 },
 "nbformat": 4,
 "nbformat_minor": 5
}
