{
 "cells": [
  {
   "cell_type": "markdown",
   "id": "24ce854a-44a4-4634-a2f3-fd545a611f7a",
   "metadata": {},
   "source": [
    "* Both are optimisation routines to find the best-fit free parameters to describe data.\n",
    "\n",
    "* They rely on minimizing a functional.\n",
    "\n",
    "*Both are hypersurfaces to being minimized."
   ]
  },
  {
   "cell_type": "markdown",
   "id": "bbd4659a-3e9b-4d9e-89d9-51c1ff6f6886",
   "metadata": {},
   "source": [
    "The functional of the $\\chi²$ method takes into account the dispersion of each data point. The is going to be an error and a distribution (it does not have to be gaussian) associated with each $y_i$. It compares the squares of the LM method with the squares of the error associated with each datapoint.\n",
    "\n",
    "The point is to find the minimim of the resultant surface of the\n",
    "$\\frac{Area LM square}{Area Error Square}$ for each data point.\n",
    "\n",
    "The minimum $\\chi²$ statistic per number of degrees of freedom (sample size - # of free paramaters) of the data points is\n",
    "\n",
    "$\\chi²_{reduced} = \\frac{\\chi²_{min}}{\\gamma} $\n",
    "\n",
    "$\\gamma$ is the number of degrees of freedom.\n",
    "\n",
    "How to judge if the regression is good?\n",
    "* $\\chi²_{reduced}$ is approx. 1 -> good regression\n",
    "* $\\chi²_{reduced}$ >> 1 -> underfitting\n",
    "* $\\chi²_{reduced}$ < 1 -> overfitting/large errors"
   ]
  },
  {
   "cell_type": "code",
   "execution_count": null,
   "id": "7ba0283f-c15a-40ac-8f92-389e7aa5bbed",
   "metadata": {},
   "outputs": [],
   "source": []
  }
 ],
 "metadata": {
  "kernelspec": {
   "display_name": "Python 3 (ipykernel)",
   "language": "python",
   "name": "python3"
  },
  "language_info": {
   "codemirror_mode": {
    "name": "ipython",
    "version": 3
   },
   "file_extension": ".py",
   "mimetype": "text/x-python",
   "name": "python",
   "nbconvert_exporter": "python",
   "pygments_lexer": "ipython3",
   "version": "3.11.11"
  }
 },
 "nbformat": 4,
 "nbformat_minor": 5
}
