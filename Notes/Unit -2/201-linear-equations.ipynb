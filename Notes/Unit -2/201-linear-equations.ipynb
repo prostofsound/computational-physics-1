{
 "cells": [
  {
   "cell_type": "markdown",
   "id": "b5147346",
   "metadata": {},
   "source": [
    "# Linear equation systems\n",
    "\n",
    "## 1. Linear Algebra Basics\n"
   ]
  },
  {
   "cell_type": "code",
   "execution_count": 1,
   "id": "5f2c00e0-6a23-46ec-afbf-95ba0b87ad19",
   "metadata": {},
   "outputs": [],
   "source": [
    "# Import libraries\n",
    "\n",
    "import numpy as np\n",
    "import matplotlib.pyplot as plt"
   ]
  },
  {
   "cell_type": "code",
   "execution_count": 2,
   "id": "735829b6-63de-49a8-a8d8-14378d5cd7eb",
   "metadata": {},
   "outputs": [
    {
     "name": "stdout",
     "output_type": "stream",
     "text": [
      "[[ 1. -7. -9.  6.  3.]]\n",
      "(1, 5)\n"
     ]
    }
   ],
   "source": [
    "# Create a row vector\n",
    "\n",
    "v_row = np.array([[1., -7, -9., 6., 3.]])\n",
    "\n",
    "print(v_row)\n",
    "print(v_row.shape)"
   ]
  },
  {
   "cell_type": "code",
   "execution_count": 3,
   "id": "6608ecc7-9870-4667-8c9b-74a4f0e444de",
   "metadata": {},
   "outputs": [
    {
     "name": "stdout",
     "output_type": "stream",
     "text": [
      "[[ 1.]\n",
      " [-7.]\n",
      " [-9.]\n",
      " [ 6.]\n",
      " [ 3.]]\n",
      "(5, 1)\n"
     ]
    }
   ],
   "source": [
    "# Create a column vector\n",
    "v_col = np.array([[1.],[-7], [-9.], [6.], [3.]])\n",
    "\n",
    "print(v_col)\n",
    "print(v_col.shape)"
   ]
  },
  {
   "cell_type": "markdown",
   "id": "229cf88c-6f44-4117-a456-e5d25479d817",
   "metadata": {},
   "source": [
    "### Linear algebra package:"
   ]
  },
  {
   "cell_type": "code",
   "execution_count": 4,
   "id": "bd7076f7-5056-4137-800f-5f80c5a17063",
   "metadata": {},
   "outputs": [],
   "source": [
    "import numpy.linalg as la"
   ]
  },
  {
   "cell_type": "code",
   "execution_count": 5,
   "id": "f3e05030-c69b-4392-98ad-3a5fc4a743f2",
   "metadata": {},
   "outputs": [
    {
     "name": "stdout",
     "output_type": "stream",
     "text": [
      "(5, 1)\n",
      "[[ 1. -7. -9.  6.  3.]]\n",
      "[[ 1.]\n",
      " [-7.]\n",
      " [-9.]\n",
      " [ 6.]\n",
      " [ 3.]]\n"
     ]
    }
   ],
   "source": [
    "# Transpose \n",
    "v_row_t = v_row.T\n",
    "\n",
    "print(v_row_t.shape)\n",
    "\n",
    "print(v_row)\n",
    "print(v_row.T)"
   ]
  },
  {
   "cell_type": "code",
   "execution_count": 6,
   "id": "f4fe47f8-a423-4cf4-a9f4-e7eb7c1b4627",
   "metadata": {},
   "outputs": [
    {
     "name": "stdout",
     "output_type": "stream",
     "text": [
      "26.0\n",
      "13.2664991614216\n",
      "9.0\n"
     ]
    }
   ],
   "source": [
    "# Get norms\n",
    "\n",
    "# https://en.wikipedia.org/wiki/Norm_(mathematics)\n",
    "\n",
    "norm_v1  = la.norm(v_row_t, 1)\n",
    "norm_v2  = la.norm(v_row_t, 2) # Magnitude of a vector\n",
    "norm_inf = la.norm(v_row_t, np.inf)\n",
    "\n",
    "print(norm_v1)\n",
    "print(norm_v2)\n",
    "print(norm_inf)"
   ]
  },
  {
   "cell_type": "code",
   "execution_count": 7,
   "id": "9ab36499-b976-4f9d-87dc-123b29aaccc8",
   "metadata": {},
   "outputs": [
    {
     "name": "stdout",
     "output_type": "stream",
     "text": [
      "(1, 3) (1, 3)\n",
      "(3, 1) (1, 3)\n",
      "(1, 3) (3, 1)\n",
      "[[ 4.  5.  6.]\n",
      " [ 8. 10. 12.]\n",
      " [12. 15. 18.]]\n",
      "[[32.]]\n"
     ]
    }
   ],
   "source": [
    "# Dot product\n",
    "\n",
    "vec_1 = np.array([[1., 2., 3.]])\n",
    "vec_2 = np.array([[4., 5., 6.]])\n",
    "\n",
    "print(vec_1.shape, vec_2.shape)\n",
    "print(vec_1.T.shape, vec_2.shape)\n",
    "print(vec_2.shape, vec_1.T.shape)\n",
    "\n",
    "# First dot product\n",
    "vec_dot1 = np.dot(vec_1.T, vec_2)\n",
    "\n",
    "# Second dot product\n",
    "vec_dot2 = np.dot(vec_2, vec_1.T)\n",
    "\n",
    "print(vec_dot1)\n",
    "print(vec_dot2)"
   ]
  },
  {
   "cell_type": "code",
   "execution_count": 8,
   "id": "8238338d-75fe-4a50-b82b-49f6c9f687bd",
   "metadata": {},
   "outputs": [
    {
     "name": "stdout",
     "output_type": "stream",
     "text": [
      "[[ 0.  5.]\n",
      " [ 3.  2.]\n",
      " [-1.  4.]]\n",
      "(3, 2)\n",
      "[[ 1. -2. -1.  5.  6.]\n",
      " [ 0.  2. -5.  7.  8.]]\n",
      "(2, 5)\n"
     ]
    }
   ],
   "source": [
    "# Matrix multiplication\n",
    "\n",
    "p_matrix = np.array([[0., 5.], [3., 2.], [-1., 4.]])\n",
    "\n",
    "print(p_matrix)\n",
    "print(p_matrix.shape)\n",
    "\n",
    "q_matrix = np.array([[1., -2., -1., 5., 6.], [0., 2., -5., 7., 8.]])\n",
    "\n",
    "print(q_matrix)\n",
    "print(q_matrix.shape)"
   ]
  },
  {
   "cell_type": "code",
   "execution_count": 9,
   "id": "135932f6-6b37-44cb-aba3-2dd845f9301d",
   "metadata": {},
   "outputs": [
    {
     "name": "stdout",
     "output_type": "stream",
     "text": [
      "[[  0.  10. -25.  35.  40.]\n",
      " [  3.  -2. -13.  29.  34.]\n",
      " [ -1.  10. -19.  23.  26.]]\n",
      "(3, 5)\n"
     ]
    }
   ],
   "source": [
    "# Multiply them\n",
    "\n",
    "mult_pq1 = np.dot(p_matrix, q_matrix)\n",
    "\n",
    "print(mult_pq1)\n",
    "print(mult_pq1.shape)"
   ]
  },
  {
   "cell_type": "code",
   "execution_count": 10,
   "id": "1686ed97-a397-4d58-a67a-184eee759250",
   "metadata": {},
   "outputs": [
    {
     "name": "stdout",
     "output_type": "stream",
     "text": [
      "[[  0.  10. -25.  35.  40.]\n",
      " [  3.  -2. -13.  29.  34.]\n",
      " [ -1.  10. -19.  23.  26.]]\n",
      "(3, 5)\n"
     ]
    }
   ],
   "source": [
    "# Multiply them\n",
    "\n",
    "mult_pq2 = p_matrix @ q_matrix\n",
    "\n",
    "print(mult_pq2)\n",
    "print(mult_pq2.shape)"
   ]
  },
  {
   "cell_type": "code",
   "execution_count": 11,
   "id": "dc0a8755-a76c-439f-876d-d67ed3cc2b26",
   "metadata": {},
   "outputs": [
    {
     "name": "stdout",
     "output_type": "stream",
     "text": [
      "[[ 0.  1.  2.]\n",
      " [-1.  5.  7.]\n",
      " [-2.  3.  9.]]\n",
      "9.000000000000002\n"
     ]
    }
   ],
   "source": [
    "# Determinant\n",
    "\n",
    "m = np.array([[0., 1., 2.], [-1., 5., 7.], [-2., 3., 9.]])\n",
    "\n",
    "print(m)\n",
    "\n",
    "det_m = la.det(m)\n",
    "\n",
    "print(det_m)"
   ]
  },
  {
   "cell_type": "code",
   "execution_count": 12,
   "id": "c5ddc6e6-1a4a-4f90-a06d-f959a9ec83d6",
   "metadata": {},
   "outputs": [
    {
     "name": "stdout",
     "output_type": "stream",
     "text": [
      "[[ 2.66666667 -0.33333333 -0.33333333]\n",
      " [-0.55555556  0.44444444 -0.22222222]\n",
      " [ 0.77777778 -0.22222222  0.11111111]]\n"
     ]
    }
   ],
   "source": [
    "# Inverting the matrix\n",
    "\n",
    "inv_m = la.inv(m)\n",
    "\n",
    "print(inv_m)"
   ]
  },
  {
   "cell_type": "markdown",
   "id": "2212dcb4-b943-4223-985e-d213276eeacd",
   "metadata": {},
   "source": [
    "## 2. Linear equation systems\n",
    "\n",
    "Here we will see a few methods to solve linear systems of equations:\n",
    "\n",
    "$ax + by = c$ \n",
    "\n",
    "$dx + ey = f$\n",
    "\n",
    "Most these methods rely on linear algebra.\n",
    "\n",
    "The most commonly-used linear algebra packages in python are:\n",
    "\n",
    "- numpy.linalg()\n",
    "- scipy.linalg()"
   ]
  },
  {
   "cell_type": "markdown",
   "id": "c7db546b",
   "metadata": {},
   "source": [
    "## Example:\n",
    "\n",
    "Solve:\n",
    "\n",
    "$2x -3y = 1$ \n",
    "\n",
    "$4x + 5y = -2$"
   ]
  },
  {
   "cell_type": "markdown",
   "id": "7153978b",
   "metadata": {},
   "source": [
    "## 1. Graphic solution:\n",
    "\n",
    "This method relies on finding the intersections points between the linear equations.\n",
    "\n",
    "To do this, we:\n",
    "\n",
    "1. Generate a vector for $x$.\n",
    "\n",
    "\n",
    "2. Define: $y_1$ for the first equation, and $y_2$ for the second one.\n",
    "\n",
    "\n",
    "3. Before and after the intersection point, the sign of the difference between the two will change, so we need to compute it with np.sign(y2 -y1).\n",
    "\n",
    "\n",
    "4. Then, we calculate the differences between the vector values produced by the sign function, np.diff(Asign). We will always get zeroes, except at the intersection point.\n",
    "\n",
    "\n",
    "5. Finally, we grab the index (idx) of the non-zero value and see to which x and y values that index corresponds: x[idx] and y[idx].\n",
    "\n",
    "\n",
    "6. This pair (x[idx], y[idx]) is our solution, which you can always double check in a plot.\n"
   ]
  },
  {
   "cell_type": "code",
   "execution_count": 13,
   "id": "d26b1e21",
   "metadata": {},
   "outputs": [],
   "source": [
    "# Generate vector\n",
    "x = np.arange(-5., 5., 0.01)"
   ]
  },
  {
   "cell_type": "markdown",
   "id": "ce766c2c-6c2d-44ca-8d67-24242f5335bc",
   "metadata": {},
   "source": [
    "\n",
    "$2x -3y = 1$ \n",
    "\n",
    "$4x + 5y = -2$"
   ]
  },
  {
   "cell_type": "code",
   "execution_count": 14,
   "id": "1b3a27e5",
   "metadata": {},
   "outputs": [],
   "source": [
    "# Get both y values\n",
    "\n",
    "y1 = (2.*x - 1.)/3.\n",
    "\n",
    "y2 = (-2. - 4.*x)/5."
   ]
  },
  {
   "cell_type": "code",
   "execution_count": 15,
   "id": "8b7a1732-0351-4634-a4b8-d29bf19ca250",
   "metadata": {},
   "outputs": [
    {
     "data": {
      "image/png": "[encoded data removed]",
      "text/plain": [
       "<Figure size 400x300 with 1 Axes>"
      ]
     },
     "metadata": {},
     "output_type": "display_data"
    }
   ],
   "source": [
    "plt.figure(figsize=(4,3))\n",
    "\n",
    "plt.plot(x, y1, label = r\"$y_1$\")\n",
    "plt.plot(x, y2, label = r\"$y_2$\")\n",
    "\n",
    "plt.legend()\n",
    "\n",
    "plt.xlabel(r\"x\")\n",
    "plt.ylabel(r\"y\")\n",
    "\n",
    "plt.show()"
   ]
  },
  {
   "cell_type": "code",
   "execution_count": 16,
   "id": "b1e83ba9",
   "metadata": {},
   "outputs": [
    {
     "name": "stdout",
     "output_type": "stream",
     "text": [
      "[ 1.  1.  1.  1.  1.  1.  1.  1.  1.  1.  1.  1.  1.  1.  1.  1.  1.  1.\n",
      "  1.  1.  1.  1.  1.  1.  1.  1.  1.  1.  1.  1.  1.  1.  1.  1.  1.  1.\n",
      "  1.  1.  1.  1.  1.  1.  1.  1.  1.  1.  1.  1.  1.  1.  1.  1.  1.  1.\n",
      "  1.  1.  1.  1.  1.  1.  1.  1.  1.  1.  1.  1.  1.  1.  1.  1.  1.  1.\n",
      "  1.  1.  1.  1.  1.  1.  1.  1.  1.  1.  1.  1.  1.  1.  1.  1.  1.  1.\n",
      "  1.  1.  1.  1.  1.  1.  1.  1.  1.  1.  1.  1.  1.  1.  1.  1.  1.  1.\n",
      "  1.  1.  1.  1.  1.  1.  1.  1.  1.  1.  1.  1.  1.  1.  1.  1.  1.  1.\n",
      "  1.  1.  1.  1.  1.  1.  1.  1.  1.  1.  1.  1.  1.  1.  1.  1.  1.  1.\n",
      "  1.  1.  1.  1.  1.  1.  1.  1.  1.  1.  1.  1.  1.  1.  1.  1.  1.  1.\n",
      "  1.  1.  1.  1.  1.  1.  1.  1.  1.  1.  1.  1.  1.  1.  1.  1.  1.  1.\n",
      "  1.  1.  1.  1.  1.  1.  1.  1.  1.  1.  1.  1.  1.  1.  1.  1.  1.  1.\n",
      "  1.  1.  1.  1.  1.  1.  1.  1.  1.  1.  1.  1.  1.  1.  1.  1.  1.  1.\n",
      "  1.  1.  1.  1.  1.  1.  1.  1.  1.  1.  1.  1.  1.  1.  1.  1.  1.  1.\n",
      "  1.  1.  1.  1.  1.  1.  1.  1.  1.  1.  1.  1.  1.  1.  1.  1.  1.  1.\n",
      "  1.  1.  1.  1.  1.  1.  1.  1.  1.  1.  1.  1.  1.  1.  1.  1.  1.  1.\n",
      "  1.  1.  1.  1.  1.  1.  1.  1.  1.  1.  1.  1.  1.  1.  1.  1.  1.  1.\n",
      "  1.  1.  1.  1.  1.  1.  1.  1.  1.  1.  1.  1.  1.  1.  1.  1.  1.  1.\n",
      "  1.  1.  1.  1.  1.  1.  1.  1.  1.  1.  1.  1.  1.  1.  1.  1.  1.  1.\n",
      "  1.  1.  1.  1.  1.  1.  1.  1.  1.  1.  1.  1.  1.  1.  1.  1.  1.  1.\n",
      "  1.  1.  1.  1.  1.  1.  1.  1.  1.  1.  1.  1.  1.  1.  1.  1.  1.  1.\n",
      "  1.  1.  1.  1.  1.  1.  1.  1.  1.  1.  1.  1.  1.  1.  1.  1.  1.  1.\n",
      "  1.  1.  1.  1.  1.  1.  1.  1.  1.  1.  1.  1.  1.  1.  1.  1.  1.  1.\n",
      "  1.  1.  1.  1.  1.  1.  1.  1.  1.  1.  1.  1.  1.  1.  1.  1.  1.  1.\n",
      "  1.  1.  1.  1.  1.  1.  1.  1.  1.  1.  1.  1.  1.  1.  1.  1.  1.  1.\n",
      "  1.  1.  1.  1.  1.  1.  1.  1.  1.  1.  1.  1.  1.  1.  1.  1.  1.  1.\n",
      "  1.  1.  1.  1.  1.  1.  1.  1.  1.  1.  1.  1.  1.  1.  1.  1.  1.  1.\n",
      "  1.  1.  1.  1.  1.  1.  1.  1.  1.  1.  1.  1.  1.  1.  1.  1.  1.  1.\n",
      "  1.  1.  1.  1.  1.  1.  1.  1.  1.  1. -1. -1. -1. -1. -1. -1. -1. -1.\n",
      " -1. -1. -1. -1. -1. -1. -1. -1. -1. -1. -1. -1. -1. -1. -1. -1. -1. -1.\n",
      " -1. -1. -1. -1. -1. -1. -1. -1. -1. -1. -1. -1. -1. -1. -1. -1. -1. -1.\n",
      " -1. -1. -1. -1. -1. -1. -1. -1. -1. -1. -1. -1. -1. -1. -1. -1. -1. -1.\n",
      " -1. -1. -1. -1. -1. -1. -1. -1. -1. -1. -1. -1. -1. -1. -1. -1. -1. -1.\n",
      " -1. -1. -1. -1. -1. -1. -1. -1. -1. -1. -1. -1. -1. -1. -1. -1. -1. -1.\n",
      " -1. -1. -1. -1. -1. -1. -1. -1. -1. -1. -1. -1. -1. -1. -1. -1. -1. -1.\n",
      " -1. -1. -1. -1. -1. -1. -1. -1. -1. -1. -1. -1. -1. -1. -1. -1. -1. -1.\n",
      " -1. -1. -1. -1. -1. -1. -1. -1. -1. -1. -1. -1. -1. -1. -1. -1. -1. -1.\n",
      " -1. -1. -1. -1. -1. -1. -1. -1. -1. -1. -1. -1. -1. -1. -1. -1. -1. -1.\n",
      " -1. -1. -1. -1. -1. -1. -1. -1. -1. -1. -1. -1. -1. -1. -1. -1. -1. -1.\n",
      " -1. -1. -1. -1. -1. -1. -1. -1. -1. -1. -1. -1. -1. -1. -1. -1. -1. -1.\n",
      " -1. -1. -1. -1. -1. -1. -1. -1. -1. -1. -1. -1. -1. -1. -1. -1. -1. -1.\n",
      " -1. -1. -1. -1. -1. -1. -1. -1. -1. -1. -1. -1. -1. -1. -1. -1. -1. -1.\n",
      " -1. -1. -1. -1. -1. -1. -1. -1. -1. -1. -1. -1. -1. -1. -1. -1. -1. -1.\n",
      " -1. -1. -1. -1. -1. -1. -1. -1. -1. -1. -1. -1. -1. -1. -1. -1. -1. -1.\n",
      " -1. -1. -1. -1. -1. -1. -1. -1. -1. -1. -1. -1. -1. -1. -1. -1. -1. -1.\n",
      " -1. -1. -1. -1. -1. -1. -1. -1. -1. -1. -1. -1. -1. -1. -1. -1. -1. -1.\n",
      " -1. -1. -1. -1. -1. -1. -1. -1. -1. -1. -1. -1. -1. -1. -1. -1. -1. -1.\n",
      " -1. -1. -1. -1. -1. -1. -1. -1. -1. -1. -1. -1. -1. -1. -1. -1. -1. -1.\n",
      " -1. -1. -1. -1. -1. -1. -1. -1. -1. -1. -1. -1. -1. -1. -1. -1. -1. -1.\n",
      " -1. -1. -1. -1. -1. -1. -1. -1. -1. -1. -1. -1. -1. -1. -1. -1. -1. -1.\n",
      " -1. -1. -1. -1. -1. -1. -1. -1. -1. -1. -1. -1. -1. -1. -1. -1. -1. -1.\n",
      " -1. -1. -1. -1. -1. -1. -1. -1. -1. -1. -1. -1. -1. -1. -1. -1. -1. -1.\n",
      " -1. -1. -1. -1. -1. -1. -1. -1. -1. -1. -1. -1. -1. -1. -1. -1. -1. -1.\n",
      " -1. -1. -1. -1. -1. -1. -1. -1. -1. -1. -1. -1. -1. -1. -1. -1. -1. -1.\n",
      " -1. -1. -1. -1. -1. -1. -1. -1. -1. -1. -1. -1. -1. -1. -1. -1. -1. -1.\n",
      " -1. -1. -1. -1. -1. -1. -1. -1. -1. -1. -1. -1. -1. -1. -1. -1. -1. -1.\n",
      " -1. -1. -1. -1. -1. -1. -1. -1. -1. -1.]\n"
     ]
    }
   ],
   "source": [
    "# Get sign vector\n",
    "\n",
    "a_sign = np.sign(y2 - y1)\n",
    "\n",
    "print(a_sign)"
   ]
  },
  {
   "cell_type": "code",
   "execution_count": 17,
   "id": "f52958ae",
   "metadata": {},
   "outputs": [
    {
     "name": "stdout",
     "output_type": "stream",
     "text": [
      "[ 0.  0.  0.  0.  0.  0.  0.  0.  0.  0.  0.  0.  0.  0.  0.  0.  0.  0.\n",
      "  0.  0.  0.  0.  0.  0.  0.  0.  0.  0.  0.  0.  0.  0.  0.  0.  0.  0.\n",
      "  0.  0.  0.  0.  0.  0.  0.  0.  0.  0.  0.  0.  0.  0.  0.  0.  0.  0.\n",
      "  0.  0.  0.  0.  0.  0.  0.  0.  0.  0.  0.  0.  0.  0.  0.  0.  0.  0.\n",
      "  0.  0.  0.  0.  0.  0.  0.  0.  0.  0.  0.  0.  0.  0.  0.  0.  0.  0.\n",
      "  0.  0.  0.  0.  0.  0.  0.  0.  0.  0.  0.  0.  0.  0.  0.  0.  0.  0.\n",
      "  0.  0.  0.  0.  0.  0.  0.  0.  0.  0.  0.  0.  0.  0.  0.  0.  0.  0.\n",
      "  0.  0.  0.  0.  0.  0.  0.  0.  0.  0.  0.  0.  0.  0.  0.  0.  0.  0.\n",
      "  0.  0.  0.  0.  0.  0.  0.  0.  0.  0.  0.  0.  0.  0.  0.  0.  0.  0.\n",
      "  0.  0.  0.  0.  0.  0.  0.  0.  0.  0.  0.  0.  0.  0.  0.  0.  0.  0.\n",
      "  0.  0.  0.  0.  0.  0.  0.  0.  0.  0.  0.  0.  0.  0.  0.  0.  0.  0.\n",
      "  0.  0.  0.  0.  0.  0.  0.  0.  0.  0.  0.  0.  0.  0.  0.  0.  0.  0.\n",
      "  0.  0.  0.  0.  0.  0.  0.  0.  0.  0.  0.  0.  0.  0.  0.  0.  0.  0.\n",
      "  0.  0.  0.  0.  0.  0.  0.  0.  0.  0.  0.  0.  0.  0.  0.  0.  0.  0.\n",
      "  0.  0.  0.  0.  0.  0.  0.  0.  0.  0.  0.  0.  0.  0.  0.  0.  0.  0.\n",
      "  0.  0.  0.  0.  0.  0.  0.  0.  0.  0.  0.  0.  0.  0.  0.  0.  0.  0.\n",
      "  0.  0.  0.  0.  0.  0.  0.  0.  0.  0.  0.  0.  0.  0.  0.  0.  0.  0.\n",
      "  0.  0.  0.  0.  0.  0.  0.  0.  0.  0.  0.  0.  0.  0.  0.  0.  0.  0.\n",
      "  0.  0.  0.  0.  0.  0.  0.  0.  0.  0.  0.  0.  0.  0.  0.  0.  0.  0.\n",
      "  0.  0.  0.  0.  0.  0.  0.  0.  0.  0.  0.  0.  0.  0.  0.  0.  0.  0.\n",
      "  0.  0.  0.  0.  0.  0.  0.  0.  0.  0.  0.  0.  0.  0.  0.  0.  0.  0.\n",
      "  0.  0.  0.  0.  0.  0.  0.  0.  0.  0.  0.  0.  0.  0.  0.  0.  0.  0.\n",
      "  0.  0.  0.  0.  0.  0.  0.  0.  0.  0.  0.  0.  0.  0.  0.  0.  0.  0.\n",
      "  0.  0.  0.  0.  0.  0.  0.  0.  0.  0.  0.  0.  0.  0.  0.  0.  0.  0.\n",
      "  0.  0.  0.  0.  0.  0.  0.  0.  0.  0.  0.  0.  0.  0.  0.  0.  0.  0.\n",
      "  0.  0.  0.  0.  0.  0.  0.  0.  0.  0.  0.  0.  0.  0.  0.  0.  0.  0.\n",
      "  0.  0.  0.  0.  0.  0.  0.  0.  0.  0.  0.  0.  0.  0.  0.  0.  0.  0.\n",
      "  0.  0.  0.  0.  0.  0.  0.  0.  0. -2.  0.  0.  0.  0.  0.  0.  0.  0.\n",
      "  0.  0.  0.  0.  0.  0.  0.  0.  0.  0.  0.  0.  0.  0.  0.  0.  0.  0.\n",
      "  0.  0.  0.  0.  0.  0.  0.  0.  0.  0.  0.  0.  0.  0.  0.  0.  0.  0.\n",
      "  0.  0.  0.  0.  0.  0.  0.  0.  0.  0.  0.  0.  0.  0.  0.  0.  0.  0.\n",
      "  0.  0.  0.  0.  0.  0.  0.  0.  0.  0.  0.  0.  0.  0.  0.  0.  0.  0.\n",
      "  0.  0.  0.  0.  0.  0.  0.  0.  0.  0.  0.  0.  0.  0.  0.  0.  0.  0.\n",
      "  0.  0.  0.  0.  0.  0.  0.  0.  0.  0.  0.  0.  0.  0.  0.  0.  0.  0.\n",
      "  0.  0.  0.  0.  0.  0.  0.  0.  0.  0.  0.  0.  0.  0.  0.  0.  0.  0.\n",
      "  0.  0.  0.  0.  0.  0.  0.  0.  0.  0.  0.  0.  0.  0.  0.  0.  0.  0.\n",
      "  0.  0.  0.  0.  0.  0.  0.  0.  0.  0.  0.  0.  0.  0.  0.  0.  0.  0.\n",
      "  0.  0.  0.  0.  0.  0.  0.  0.  0.  0.  0.  0.  0.  0.  0.  0.  0.  0.\n",
      "  0.  0.  0.  0.  0.  0.  0.  0.  0.  0.  0.  0.  0.  0.  0.  0.  0.  0.\n",
      "  0.  0.  0.  0.  0.  0.  0.  0.  0.  0.  0.  0.  0.  0.  0.  0.  0.  0.\n",
      "  0.  0.  0.  0.  0.  0.  0.  0.  0.  0.  0.  0.  0.  0.  0.  0.  0.  0.\n",
      "  0.  0.  0.  0.  0.  0.  0.  0.  0.  0.  0.  0.  0.  0.  0.  0.  0.  0.\n",
      "  0.  0.  0.  0.  0.  0.  0.  0.  0.  0.  0.  0.  0.  0.  0.  0.  0.  0.\n",
      "  0.  0.  0.  0.  0.  0.  0.  0.  0.  0.  0.  0.  0.  0.  0.  0.  0.  0.\n",
      "  0.  0.  0.  0.  0.  0.  0.  0.  0.  0.  0.  0.  0.  0.  0.  0.  0.  0.\n",
      "  0.  0.  0.  0.  0.  0.  0.  0.  0.  0.  0.  0.  0.  0.  0.  0.  0.  0.\n",
      "  0.  0.  0.  0.  0.  0.  0.  0.  0.  0.  0.  0.  0.  0.  0.  0.  0.  0.\n",
      "  0.  0.  0.  0.  0.  0.  0.  0.  0.  0.  0.  0.  0.  0.  0.  0.  0.  0.\n",
      "  0.  0.  0.  0.  0.  0.  0.  0.  0.  0.  0.  0.  0.  0.  0.  0.  0.  0.\n",
      "  0.  0.  0.  0.  0.  0.  0.  0.  0.  0.  0.  0.  0.  0.  0.  0.  0.  0.\n",
      "  0.  0.  0.  0.  0.  0.  0.  0.  0.  0.  0.  0.  0.  0.  0.  0.  0.  0.\n",
      "  0.  0.  0.  0.  0.  0.  0.  0.  0.  0.  0.  0.  0.  0.  0.  0.  0.  0.\n",
      "  0.  0.  0.  0.  0.  0.  0.  0.  0.  0.  0.  0.  0.  0.  0.  0.  0.  0.\n",
      "  0.  0.  0.  0.  0.  0.  0.  0.  0.  0.  0.  0.  0.  0.  0.  0.  0.  0.\n",
      "  0.  0.  0.  0.  0.  0.  0.  0.  0.  0.  0.  0.  0.  0.  0.  0.  0.  0.\n",
      "  0.  0.  0.  0.  0.  0.  0.  0.  0.]\n"
     ]
    }
   ],
   "source": [
    "# Get difference\n",
    "\n",
    "a_diff = np.diff(a_sign)\n",
    "\n",
    "print(a_diff)"
   ]
  },
  {
   "cell_type": "code",
   "execution_count": 18,
   "id": "b0bfc653",
   "metadata": {},
   "outputs": [
    {
     "name": "stdout",
     "output_type": "stream",
     "text": [
      "Index of the non-zero value:  [495]\n"
     ]
    }
   ],
   "source": [
    "# Get index with non-zero value\n",
    "# https://numpy.org/doc/stable/reference/generated/numpy.argwhere.html\n",
    "\n",
    "a_arg = np.argwhere(a_diff).flatten()\n",
    "\n",
    "print(\"Index of the non-zero value: \", a_arg)"
   ]
  },
  {
   "cell_type": "code",
   "execution_count": 19,
   "id": "7dcb5d5e",
   "metadata": {},
   "outputs": [
    {
     "name": "stdout",
     "output_type": "stream",
     "text": [
      "Solution is: -0.050000000000105516 -0.36666666666673703\n"
     ]
    },
    {
     "name": "stderr",
     "output_type": "stream",
     "text": [
      "/tmp/ipykernel_5378/3067358620.py:1: DeprecationWarning: Conversion of an array with ndim > 0 to a scalar is deprecated, and will error in future. Ensure you extract a single element from your array before performing this operation. (Deprecated NumPy 1.25.)\n",
      "  print(\"Solution is:\", float(x[a_arg]), float(y1[a_arg]))\n"
     ]
    }
   ],
   "source": [
    "print(\"Solution is:\", float(x[a_arg]), float(y1[a_arg]))"
   ]
  },
  {
   "cell_type": "code",
   "execution_count": 20,
   "id": "6f815aeb",
   "metadata": {},
   "outputs": [],
   "source": [
    "# In one go:\n",
    "\n",
    "idx = np.argwhere(np.diff(np.sign(y2 - y1))).flatten()"
   ]
  },
  {
   "cell_type": "code",
   "execution_count": 21,
   "id": "c573ec0f",
   "metadata": {},
   "outputs": [
    {
     "name": "stdout",
     "output_type": "stream",
     "text": [
      "Solution is: -0.050000000000105516 -0.36666666666673703\n"
     ]
    },
    {
     "name": "stderr",
     "output_type": "stream",
     "text": [
      "/tmp/ipykernel_5378/634624592.py:1: DeprecationWarning: Conversion of an array with ndim > 0 to a scalar is deprecated, and will error in future. Ensure you extract a single element from your array before performing this operation. (Deprecated NumPy 1.25.)\n",
      "  print(\"Solution is:\", float(x[idx]), float(y1[idx]))\n"
     ]
    }
   ],
   "source": [
    "print(\"Solution is:\", float(x[idx]), float(y1[idx]))"
   ]
  },
  {
   "cell_type": "code",
   "execution_count": 22,
   "id": "57e7f359-8702-4739-8f2d-59e76dae602a",
   "metadata": {},
   "outputs": [
    {
     "name": "stdout",
     "output_type": "stream",
     "text": [
      "[[ 1 -1]\n",
      " [ 2  4]]\n",
      "(2, 2)\n",
      "[ 1 -1  2  4]\n",
      "[[1]\n",
      " [5]]\n",
      "(2, 1)\n",
      "[1 5]\n",
      "(2,)\n"
     ]
    }
   ],
   "source": [
    "# What is flatten() used for?\n",
    "\n",
    "example_arr = np.array([[1, -1],[2, 4]])\n",
    "\n",
    "print(example_arr)\n",
    "\n",
    "print(example_arr.shape)\n",
    "\n",
    "# Use flatten()\n",
    "\n",
    "example_arr_flat = example_arr.flatten()\n",
    "\n",
    "print(example_arr_flat)\n",
    "\n",
    "example2_arr = np.array([[1],[5]])\n",
    "\n",
    "print(example2_arr)\n",
    "\n",
    "print(example2_arr.shape)\n",
    "\n",
    "example2_arr_flat = example2_arr.flatten()\n",
    "\n",
    "print(example2_arr_flat)\n",
    "\n",
    "print(example2_arr_flat.shape)"
   ]
  },
  {
   "cell_type": "code",
   "execution_count": 23,
   "id": "d1cd2fad",
   "metadata": {},
   "outputs": [
    {
     "data": {
      "image/png": "[encoded data removed]",
      "text/plain": [
       "<Figure size 500x400 with 1 Axes>"
      ]
     },
     "metadata": {},
     "output_type": "display_data"
    }
   ],
   "source": [
    "# Graphical solution\n",
    "\n",
    "fig, ax = plt.subplots(figsize=(5,4))\n",
    "ax.plot(x, y1, label = r\"$y_1$\")\n",
    "ax.plot(x, y2, label = r\"$y_2$\")\n",
    "\n",
    "ax.plot(x[idx], y1[idx], 'd', c = 'red', label = \"solution\")\n",
    "\n",
    "ax.legend()\n",
    "\n",
    "ax.set_xlabel(r\"x\")\n",
    "ax.set_ylabel(r\"y\")\n",
    "\n",
    "plt.show()"
   ]
  },
  {
   "cell_type": "markdown",
   "id": "589e35bd",
   "metadata": {},
   "source": [
    "## 2. Using Cramer's rule\n",
    "\n",
    "Same problem: \n",
    "\n",
    "$2x -3y = 1$ \n",
    "\n",
    "$4x + 5y = -2$\n",
    "\n",
    "\n",
    "$$A\\,x = b$$"
   ]
  },
  {
   "cell_type": "code",
   "execution_count": 24,
   "id": "eb516ccc-eb23-42d4-95b7-030f48da15dd",
   "metadata": {},
   "outputs": [
    {
     "name": "stdout",
     "output_type": "stream",
     "text": [
      "[[ 2 -3]\n",
      " [ 4  5]]\n",
      "[ 1 -2]\n",
      "\n",
      "\n",
      "[[ 2  1]\n",
      " [ 4 -2]]\n"
     ]
    }
   ],
   "source": [
    "# This is the A matrix\n",
    "a = np.array([[2, -3], [4, 5]])\n",
    "\n",
    "print(a)\n",
    "\n",
    "# Now we get the b vector\n",
    "b = np.array([1, -2])\n",
    "\n",
    "print(b)\n",
    "print(\"\\n\")\n",
    "# Get the new A_i matrices\n",
    "\n",
    "a1 = np.array([b, a[:,1]])\n",
    "a2 = np.array([a[:,0], b])\n",
    "\n",
    "print(a2.T)"
   ]
  },
  {
   "cell_type": "code",
   "execution_count": 51,
   "id": "4bdaf1d0",
   "metadata": {},
   "outputs": [],
   "source": [
    "def cramer_function(matrix_lhs, values_rhs): #try coding this function for higher shaoe matrices\n",
    "    \"\"\"\n",
    "    Inputs: matrix_lhs -> A matrix\n",
    "            values_rhs -> b vector\n",
    "    \"\"\"\n",
    "    # Determinant of the original matrix\n",
    "    d = la.det(matrix_lhs)\n",
    "    \n",
    "    # Create matrices by alternating columns\n",
    "    matrix1 = np.array([values_rhs, matrix_lhs[:,1]])\n",
    "    matrix2 = np.array([matrix_lhs[:,0], values_rhs])\n",
    "    \n",
    "    # Get determinants of both\n",
    "    d1 = la.det(matrix1)\n",
    "    d2 = la.det(matrix2)\n",
    "    \n",
    "    # Finding the X1, X2\n",
    "    sol1 = d1/d\n",
    "    sol2 = d2/d\n",
    "    \n",
    "    return sol1, sol2"
   ]
  },
  {
   "cell_type": "code",
   "execution_count": 26,
   "id": "4d0ed791",
   "metadata": {},
   "outputs": [],
   "source": [
    "# Call the function\n",
    "\n",
    "x_cramer, y_cramer = cramer_function(a, b)"
   ]
  },
  {
   "cell_type": "code",
   "execution_count": 27,
   "id": "e954deef",
   "metadata": {},
   "outputs": [
    {
     "name": "stdout",
     "output_type": "stream",
     "text": [
      "-0.04545454545454547 -0.3636363636363635\n"
     ]
    }
   ],
   "source": [
    "print(x_cramer, y_cramer)"
   ]
  },
  {
   "cell_type": "markdown",
   "id": "8416ae9c",
   "metadata": {},
   "source": [
    "## 3. Matrix solution:\n",
    "\n",
    "$$x = A^{-1}\\,\\cdot b$$"
   ]
  },
  {
   "cell_type": "code",
   "execution_count": 28,
   "id": "cd262bf5",
   "metadata": {},
   "outputs": [],
   "source": [
    "a = np.array([[2, -3], [4, 5]])"
   ]
  },
  {
   "cell_type": "code",
   "execution_count": 29,
   "id": "d988ee3c",
   "metadata": {},
   "outputs": [
    {
     "name": "stdout",
     "output_type": "stream",
     "text": [
      "[[ 2 -3]\n",
      " [ 4  5]]\n"
     ]
    }
   ],
   "source": [
    "print(a)"
   ]
  },
  {
   "cell_type": "code",
   "execution_count": 30,
   "id": "65dddec6",
   "metadata": {},
   "outputs": [],
   "source": [
    "b = np.array([[1], [-2]])"
   ]
  },
  {
   "cell_type": "code",
   "execution_count": 31,
   "id": "d15d5013",
   "metadata": {},
   "outputs": [
    {
     "name": "stdout",
     "output_type": "stream",
     "text": [
      "[[ 1]\n",
      " [-2]]\n"
     ]
    }
   ],
   "source": [
    "print(b)"
   ]
  },
  {
   "cell_type": "code",
   "execution_count": 32,
   "id": "2e9e3761",
   "metadata": {},
   "outputs": [],
   "source": [
    "inv_a = la.inv(a)"
   ]
  },
  {
   "cell_type": "code",
   "execution_count": 33,
   "id": "6ebd4f31",
   "metadata": {},
   "outputs": [
    {
     "name": "stdout",
     "output_type": "stream",
     "text": [
      "[[ 0.22727273  0.13636364]\n",
      " [-0.18181818  0.09090909]]\n"
     ]
    }
   ],
   "source": [
    "print(inv_a)"
   ]
  },
  {
   "cell_type": "code",
   "execution_count": 34,
   "id": "222485de",
   "metadata": {},
   "outputs": [
    {
     "name": "stdout",
     "output_type": "stream",
     "text": [
      "[[ 1.00000000e+00 -2.77555756e-17]\n",
      " [ 5.55111512e-17  1.00000000e+00]]\n"
     ]
    }
   ],
   "source": [
    "i_matrix = a @ inv_a\n",
    "\n",
    "print(i_matrix)"
   ]
  },
  {
   "cell_type": "markdown",
   "id": "30803a29-f4fc-40c6-b176-1653d528d353",
   "metadata": {},
   "source": [
    "We don't get exactly zeroes on the off-diagonal elements because of precision errors of floating point numbers."
   ]
  },
  {
   "cell_type": "code",
   "execution_count": 35,
   "id": "0eea6514",
   "metadata": {},
   "outputs": [],
   "source": [
    "x_sln = inv_a.dot(b)"
   ]
  },
  {
   "cell_type": "code",
   "execution_count": 36,
   "id": "6b3bb266",
   "metadata": {},
   "outputs": [
    {
     "name": "stdout",
     "output_type": "stream",
     "text": [
      "[[-0.04545455]\n",
      " [-0.36363636]]\n"
     ]
    }
   ],
   "source": [
    "print(x_sln)"
   ]
  },
  {
   "cell_type": "code",
   "execution_count": 37,
   "id": "c8a011cb",
   "metadata": {},
   "outputs": [],
   "source": [
    "#  Second way\n",
    "x_sln1 = inv_a @ b"
   ]
  },
  {
   "cell_type": "code",
   "execution_count": 38,
   "id": "83b334b0",
   "metadata": {},
   "outputs": [
    {
     "name": "stdout",
     "output_type": "stream",
     "text": [
      "[[-0.04545455]\n",
      " [-0.36363636]]\n"
     ]
    }
   ],
   "source": [
    "print(x_sln1)"
   ]
  },
  {
   "cell_type": "markdown",
   "id": "3f3689a3",
   "metadata": {},
   "source": [
    "## Example 2:\n",
    "\n",
    "Solve: \n",
    "\n",
    "$4x + 3y + 2z = 25$\n",
    "\n",
    "$-2x + 2y + 3z = -10$\n",
    "\n",
    "$3x -5y + 2z = -4$"
   ]
  },
  {
   "cell_type": "code",
   "execution_count": 39,
   "id": "ec5d244a",
   "metadata": {},
   "outputs": [],
   "source": [
    "# Let's define a function:\n",
    "\n",
    "def z1(x, y):  # Which we can call later on\n",
    "    return (-4*x - 3*y + 25)/2 # Must be indented\n",
    "\n",
    "def z2(x, y):  # Which we can call later on\n",
    "    return (+2*x - 2*y - 10)/3 # Must be indented\n",
    "\n",
    "def z3(x, y):  # Which we can call later on\n",
    "    return (-3*x + 5*y - 4)/2 # Must be indented"
   ]
  },
  {
   "cell_type": "code",
   "execution_count": 40,
   "id": "95b34fea",
   "metadata": {},
   "outputs": [],
   "source": [
    "x = np.linspace(-10, 10, 30)  # Define x coordinates\n",
    "y = np.linspace(-10, 10, 30)  # Define y coordinates\n",
    "\n",
    "x_2D, y_2D = np.meshgrid(x, y)  #Create the grid, i.e., from vector coordinates, it generates a matrix of coordinates"
   ]
  },
  {
   "cell_type": "code",
   "execution_count": 41,
   "id": "b8fe4d79",
   "metadata": {},
   "outputs": [],
   "source": [
    "Z1 = z1(x_2D, y_2D) # Call function and get Z\n",
    "Z2 = z2(x_2D, y_2D) # Call function and get Z\n",
    "Z3 = z3(x_2D, y_2D) # Call function and get Z"
   ]
  },
  {
   "cell_type": "code",
   "execution_count": 42,
   "id": "6a60f103",
   "metadata": {},
   "outputs": [
    {
     "data": {
      "image/png": "[encoded data removed]",
      "text/plain": [
       "<Figure size 640x480 with 1 Axes>"
      ]
     },
     "metadata": {},
     "output_type": "display_data"
    }
   ],
   "source": [
    "# Now we do some plotting:\n",
    "fig = plt.figure()\n",
    "\n",
    "ax = plt.axes(projection='3d')\n",
    "ax.contour3D(x_2D, y_2D, Z1, 500, cmap='Blues') # Creates 'n=100' contours at different Z to make the surface\n",
    "ax.contour3D(x_2D, y_2D, Z2, 500, cmap='Reds') # Creates 'n=100' contours at different Z to make the surface\n",
    "ax.contour3D(x_2D, y_2D, Z3, 500, cmap='Greens') # Creates 'n=100' contours at different Z to make the surface\n",
    "\n",
    "ax.set_xlabel('x')  # Customised labels for axes\n",
    "ax.set_ylabel('y')\n",
    "ax.set_zlabel('z')\n",
    "\n",
    "plt.show()"
   ]
  },
  {
   "cell_type": "markdown",
   "id": "3b675240",
   "metadata": {},
   "source": [
    "### Matrix solution of example 2:\n"
   ]
  },
  {
   "cell_type": "code",
   "execution_count": 43,
   "id": "19b1f2cf",
   "metadata": {},
   "outputs": [],
   "source": [
    "A = np.array([[4, 3, 2], [-2, 2, 3], [3, -5, 2]])"
   ]
  },
  {
   "cell_type": "code",
   "execution_count": 44,
   "id": "bcf877f5",
   "metadata": {},
   "outputs": [
    {
     "name": "stdout",
     "output_type": "stream",
     "text": [
      "[[ 4  3  2]\n",
      " [-2  2  3]\n",
      " [ 3 -5  2]]\n"
     ]
    }
   ],
   "source": [
    "print(A)"
   ]
  },
  {
   "cell_type": "code",
   "execution_count": 45,
   "id": "5d2c3a2e",
   "metadata": {},
   "outputs": [],
   "source": [
    "b = np.array([25, -10, -4])"
   ]
  },
  {
   "cell_type": "code",
   "execution_count": 46,
   "id": "0bb91c4d",
   "metadata": {},
   "outputs": [
    {
     "name": "stdout",
     "output_type": "stream",
     "text": [
      "[ 25 -10  -4]\n"
     ]
    }
   ],
   "source": [
    "print(b)"
   ]
  },
  {
   "cell_type": "code",
   "execution_count": 47,
   "id": "b8954a87",
   "metadata": {},
   "outputs": [
    {
     "name": "stdout",
     "output_type": "stream",
     "text": [
      "[ 5.  3. -2.]\n"
     ]
    }
   ],
   "source": [
    "X = la.inv(A).dot(b)\n",
    "print(X)"
   ]
  },
  {
   "cell_type": "markdown",
   "id": "400e2565",
   "metadata": {},
   "source": [
    "## 4. Solving linear equations system wth symbolic algebra (sympy)\n",
    "\n",
    "#### Documentation:\n",
    "https://www.sympy.org/en/index.html\n",
    "\n",
    "\n",
    "#### About Sympy:\n",
    "SymPy is a Python library for symbolic mathematics. It aims to become a full-featured computer algebra system (CAS) while keeping the code as simple as possible in order to be comprehensible and easily extensible. SymPy is written entirely in Python.\n",
    "\n",
    "It is similar (or better) to Wolfram Mathematica.\n",
    "\n",
    "conda install sympy\n",
    "\n",
    "!pip install sympy"
   ]
  },
  {
   "cell_type": "code",
   "execution_count": 52,
   "id": "92a2b21e",
   "metadata": {},
   "outputs": [],
   "source": [
    "import sympy as sp\n",
    "from sympy.solvers.solveset import linsolve"
   ]
  },
  {
   "cell_type": "markdown",
   "id": "0047f177",
   "metadata": {},
   "source": [
    "Solve: \n",
    "\n",
    "$4x + 3y + 2z = 25$\n",
    "\n",
    "$-2x + 2y + 3z = -10$\n",
    "\n",
    "$3x -5y + 2z = -4$"
   ]
  },
  {
   "cell_type": "markdown",
   "id": "4c8b505c",
   "metadata": {},
   "source": [
    "### a) Based on a list of equations:"
   ]
  },
  {
   "cell_type": "markdown",
   "id": "71b66a6f",
   "metadata": {},
   "source": [
    "#### 1. Define symbols"
   ]
  },
  {
   "cell_type": "code",
   "execution_count": 54,
   "id": "9973ec5c",
   "metadata": {},
   "outputs": [],
   "source": [
    "# 1. Define symbols\n",
    "\n",
    "x, y, z = sp.symbols('x, y, z')"
   ]
  },
  {
   "cell_type": "code",
   "execution_count": 56,
   "id": "40b7c89e-e65b-4de9-996e-cc3c9613e8ca",
   "metadata": {},
   "outputs": [],
   "source": [
    "#%whos"
   ]
  },
  {
   "cell_type": "markdown",
   "id": "baa52a7d",
   "metadata": {},
   "source": [
    "#### 2) List of equations:"
   ]
  },
  {
   "cell_type": "code",
   "execution_count": 59,
   "id": "7f1f568d",
   "metadata": {},
   "outputs": [
    {
     "name": "stdout",
     "output_type": "stream",
     "text": [
      "{(5, 3, -2)}\n"
     ]
    }
   ],
   "source": [
    "solution = linsolve([4*x + 3*y + 2*z - 25,\\\n",
    "                     -2*x + 2*y + 3*z + 10,\\\n",
    "                     3*x - 5*y + 2*z + 4], (x, y, z)) #input the equations as equating to zero\n",
    "\n",
    "print(solution)"
   ]
  },
  {
   "cell_type": "markdown",
   "id": "672b1fff",
   "metadata": {},
   "source": [
    "### b) Using an augmented matrix:"
   ]
  },
  {
   "cell_type": "code",
   "execution_count": 64,
   "id": "65f28b1b",
   "metadata": {},
   "outputs": [
    {
     "name": "stdout",
     "output_type": "stream",
     "text": [
      "{(5, 3, -2)}\n",
      "<class 'sympy.sets.sets.FiniteSet'>\n",
      "[(5, 3, -2)]\n",
      "(5, 3, -2)\n",
      "3\n"
     ]
    }
   ],
   "source": [
    "solution2 = linsolve(sp.Matrix(([4, 3, 2, 25],\\\n",
    "                                [-2, 2, 3, -10], [3, -5, 2, -4])), (x, y, z))\n",
    "\n",
    "print(solution2)\n",
    "print(type(solution2)) #it's a set of a tuple\n",
    "\n",
    "#print(solution2[0]) # THis does not work, any alternatives?\n",
    "\n",
    "# Convert the sympy obj to python native obj -> list\n",
    "solution2_list = list(solution2)\n",
    "\n",
    "print(solution2_list)\n",
    "print(solution2_list[0])\n",
    "print(solution2_list[0][1])"
   ]
  },
  {
   "cell_type": "markdown",
   "id": "52a35134",
   "metadata": {},
   "source": [
    "### c) Using a numpy-like matrix (A*x = b) form"
   ]
  },
  {
   "cell_type": "code",
   "execution_count": 65,
   "id": "9afca8fe",
   "metadata": {},
   "outputs": [
    {
     "name": "stdout",
     "output_type": "stream",
     "text": [
      "Full sympy matrix:  Matrix([[4, 3, 2, 25], [-2, 2, 3, -10], [3, -5, 2, -4]])\n",
      "LHS of the matrix:  Matrix([[4, 3, 2], [-2, 2, 3], [3, -5, 2]])\n",
      "RHS of the matrix:  Matrix([[25], [-10], [-4]])\n"
     ]
    }
   ],
   "source": [
    "M = sp.Matrix(([4, 3, 2, 25], [-2, 2, 3, -10],\\\n",
    "               [3, -5, 2, -4]))\n",
    "\n",
    "print(\"Full sympy matrix: \", M)\n",
    "\n",
    "print(\"LHS of the matrix: \", M[:, :-1]) #coefficients matrix\n",
    "print(\"RHS of the matrix: \", M[:, -1]) #independent array"
   ]
  },
  {
   "cell_type": "code",
   "execution_count": 62,
   "id": "4a207287",
   "metadata": {},
   "outputs": [],
   "source": [
    "# Augmented  matrix\n",
    "\n",
    "system = A, b = M[:, :-1], M[:, -1]"
   ]
  },
  {
   "cell_type": "code",
   "execution_count": 66,
   "id": "99bcee3c",
   "metadata": {},
   "outputs": [
    {
     "name": "stdout",
     "output_type": "stream",
     "text": [
      "Solution for x is:  5\n",
      "Solution for y is:  3\n",
      "Solution for z is:  -2\n"
     ]
    }
   ],
   "source": [
    "solution3 = linsolve(system, x, y, z)\n",
    "\n",
    "print(\"Solution for x is: \", list(solution3)[0][0]) #remember to convert first to a list\n",
    "print(\"Solution for y is: \", list(solution3)[0][1])\n",
    "print(\"Solution for z is: \", list(solution3)[0][2])"
   ]
  }
 ],
 "metadata": {
  "kernelspec": {
   "display_name": "Python 3 (ipykernel)",
   "language": "python",
   "name": "python3"
  },
  "language_info": {
   "codemirror_mode": {
    "name": "ipython",
    "version": 3
   },
   "file_extension": ".py",
   "mimetype": "text/x-python",
   "name": "python",
   "nbconvert_exporter": "python",
   "pygments_lexer": "ipython3",
   "version": "3.11.11"
  }
 },
 "nbformat": 4,
 "nbformat_minor": 5
}
